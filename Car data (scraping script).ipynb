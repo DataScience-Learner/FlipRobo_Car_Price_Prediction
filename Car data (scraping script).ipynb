{
 "cells": [
  {
   "cell_type": "markdown",
   "metadata": {},
   "source": [
    "## Car data collection"
   ]
  },
  {
   "cell_type": "code",
   "execution_count": 1,
   "metadata": {},
   "outputs": [],
   "source": [
    "from selenium import webdriver\n",
    "from selenium.webdriver.common.keys import Keys\n",
    "import time\n",
    "import pandas as pd # Importing the required libraries\n",
    "from selenium.webdriver.common.by import By\n",
    "from selenium.webdriver.support.ui import WebDriverWait\n",
    "from selenium.webdriver.support import expected_conditions as EC\n",
    "from selenium.common.exceptions import NoSuchElementException"
   ]
  },
  {
   "cell_type": "code",
   "execution_count": 2,
   "metadata": {},
   "outputs": [],
   "source": [
    "PATH = \"C:\\Program Files (x86)\\chromedriver.exe\" # Defining path"
   ]
  },
  {
   "cell_type": "markdown",
   "metadata": {},
   "source": [
    "This is a list of 22 cities for which I will be scrapping the car data:"
   ]
  },
  {
   "cell_type": "code",
   "execution_count": 3,
   "metadata": {},
   "outputs": [],
   "source": [
    "cities = ['Rohtak','Panipat','Delhi','Mumbai','Pune','Bengaluru','Hyderabad','Chennai','Kolkata','Ahmedabad','Surat','Bhopal', 'Chandigarh','Nasik','Rajkot','Jaipur','Ludhiana','Meerut','Mysore','Vadodara','Kochi','Lucknow']"
   ]
  },
  {
   "cell_type": "code",
   "execution_count": 4,
   "metadata": {},
   "outputs": [
    {
     "data": {
      "text/plain": [
       "22"
      ]
     },
     "execution_count": 4,
     "metadata": {},
     "output_type": "execute_result"
    }
   ],
   "source": [
    "len(cities)"
   ]
  },
  {
   "cell_type": "code",
   "execution_count": 5,
   "metadata": {},
   "outputs": [],
   "source": [
    "driver = webdriver.Chrome(PATH)\n",
    "driver.get(\"https://www.cars24.com/buy-used-car?sort=P&storeCityId=5&pinId=122001\")\n",
    "\n",
    "time.sleep(2) # Going to link"
   ]
  },
  {
   "cell_type": "markdown",
   "metadata": {},
   "source": [
    "Maximising the opened window as sometimes there is an error other wise."
   ]
  },
  {
   "cell_type": "code",
   "execution_count": 6,
   "metadata": {},
   "outputs": [],
   "source": [
    "driver.set_window_size(1024, 600)\n",
    "driver.maximize_window()"
   ]
  },
  {
   "cell_type": "markdown",
   "metadata": {},
   "source": [
    "The following xpath opens up the location prompt; we click it to select the next location."
   ]
  },
  {
   "cell_type": "code",
   "execution_count": 7,
   "metadata": {},
   "outputs": [],
   "source": [
    "selection = driver.find_element_by_xpath(\"/html/body/div[1]/div[1]/div[2]/div/div/div[1]/p\")\n",
    "selection.click()"
   ]
  },
  {
   "cell_type": "markdown",
   "metadata": {},
   "source": [
    "A basic function which will take the text element from the scraped web element and append it to a list."
   ]
  },
  {
   "cell_type": "code",
   "execution_count": 8,
   "metadata": {},
   "outputs": [],
   "source": [
    "def append(path,list_): # This is a function I have created which will be used throughout the assignment to not repeat same piece of code again and again\n",
    "    for i in path:\n",
    "        list_.append(i.text)   # This function basically iterates the text from each element from seleenium driver and appends it to the list provided."
   ]
  },
  {
   "cell_type": "markdown",
   "metadata": {},
   "source": [
    "This function will be used to scroll down to the bottom of a page; as cars 24 uses infinite scrolling this will be useful."
   ]
  },
  {
   "cell_type": "code",
   "execution_count": 9,
   "metadata": {},
   "outputs": [],
   "source": [
    "def scroll_down():\n",
    "    for i in range(32):\n",
    "        driver.execute_script(\"window.scrollTo(0, 1299999)\") \n",
    "        time.sleep(0.5)"
   ]
  },
  {
   "cell_type": "markdown",
   "metadata": {},
   "source": [
    "Initiating lists to which I will append the data."
   ]
  },
  {
   "cell_type": "code",
   "execution_count": 10,
   "metadata": {},
   "outputs": [],
   "source": [
    "urls = []\n",
    "car_name = []\n",
    "car_transmission = []\n",
    "car_variant = []\n",
    "car_mileage = []\n",
    "car_owner = []\n",
    "car_fuel = []\n",
    "car_price = []\n",
    "\n",
    "car_city = []"
   ]
  },
  {
   "cell_type": "code",
   "execution_count": 11,
   "metadata": {},
   "outputs": [
    {
     "name": "stdout",
     "output_type": "stream",
     "text": [
      "Rohtak\n",
      "237 237 237 237 237 237 237 237\n",
      "Panipat\n",
      "229 229 229 229 229 229 229 229\n",
      "Delhi\n",
      "432 432 432 432 432 432 432 432\n",
      "Mumbai\n",
      "513 513 513 513 513 513 513 513\n",
      "Pune\n",
      "419 419 419 419 419 419 419 419\n",
      "Bengaluru\n",
      "305 305 305 305 305 305 305 305\n",
      "Hyderabad\n",
      "73 73 73 73 73 73 73 73\n",
      "Chennai\n",
      "264 264 264 264 264 264 264 264\n",
      "Kolkata\n",
      "228 228 228 228 228 228 228 228\n",
      "Ahmedabad\n",
      "321 321 321 321 321 321 321 321\n",
      "Surat\n",
      "299 299 299 299 299 299 299 299\n",
      "Bhopal\n",
      "27 27 27 27 27 27 27 27\n",
      "Chandigarh\n",
      "415 415 415 415 415 415 415 415\n",
      "Nasik\n",
      "273 273 273 273 273 273 273 273\n",
      "Rajkot\n",
      "256 256 256 256 256 256 256 256\n",
      "Jaipur\n",
      "228 228 228 228 228 228 228 228\n",
      "Ludhiana\n",
      "187 187 187 187 187 187 187 187\n",
      "Meerut\n",
      "227 227 227 227 227 227 227 227\n",
      "Mysore\n",
      "21 21 21 21 21 21 21 21\n",
      "Vadodara\n",
      "235 235 235 235 235 235 235 235\n",
      "Kochi\n",
      "97 97 97 97 97 97 97 97\n",
      "Lucknow\n",
      "53 53 53 53 53 53 53 53\n"
     ]
    }
   ],
   "source": [
    "for city in cities:\n",
    "    \n",
    "    search_bar = driver.find_element_by_xpath(\"//div[@class='_6QaMX']/input\") # Goes to the search bar for location\n",
    "    search_bar.send_keys(Keys.CONTROL, 'a')                                   # Clear previous entry\n",
    "    search_bar.send_keys(Keys.BACKSPACE)\n",
    "    search_bar.send_keys(city)                                                # Type in one city name from the list (loop next)\n",
    "    time.sleep(1)\n",
    "    \n",
    "    try:\n",
    "        to_click = driver.find_element_by_xpath(\"//ul[@class='_16Bvy']/li\")      # Select city\n",
    "    except:\n",
    "        to_click = driver.find_element_by_xpath(\"/html/body/div[1]/div[6]/div/div/div/div[2]/div/div/ul/div/li\") # Select city\n",
    "        \n",
    "    to_click.click() # Click city\n",
    "        \n",
    "    time.sleep(2)\n",
    "    print(city) # For conformation, that city is selected properly\n",
    "    scroll_down()\n",
    "    \n",
    "       \n",
    "    links = driver.find_elements_by_xpath(\"//a[@class='_9Ue0B']\")\n",
    "    names = driver.find_elements_by_xpath(\"//div[@class='_1l4fi']/div/div/h2\")\n",
    "    transmissions = driver.find_elements_by_xpath(\"//div[@class='_1l4fi']/div/div/p/span\")\n",
    "    variants = driver.find_elements_by_xpath(\"//div[@class='_1l4fi']/div/div/p\")\n",
    "    mileage = driver.find_elements_by_xpath(\"//div[@class='_1l4fi']/ul/li[1]\")         # Various xpaths for the data we need\n",
    "    owner = driver.find_elements_by_xpath(\"//div[@class='_1l4fi']/ul/li[2]\")           # to collect about the cars\n",
    "    fuel = driver.find_elements_by_xpath(\"//div[@class='_1l4fi']/ul/li[3]\")            # Self explanatory names\n",
    "    price = driver.find_elements_by_xpath(\"//div[@class='_1l4fi']/div[2]/div/span\")    \n",
    "    \n",
    "    for url in links:\n",
    "        urls.append(url.get_attribute('href'))\n",
    "    \n",
    "    append(names,car_name)\n",
    "    append(transmissions,car_transmission)\n",
    "    append(variants,car_variant)\n",
    "    append(mileage,car_mileage)\n",
    "    append(owner,car_owner)             # Append all data to list \n",
    "    append(fuel,car_fuel)\n",
    "    append(price,car_price)\n",
    "    \n",
    "    print(len(links),len(names),len(transmissions),len(variants),len(mileage),len(owner),len(fuel),len(price))\n",
    "    # To confirm that all data is of same length\n",
    "    \n",
    "    length_cur = len(names)  \n",
    "    \n",
    "    for i in range(length_cur): # Adding list with city name; it has equal amount of data as other collected data \n",
    "        car_city.append(city)   # for that specific city\n",
    "\n",
    "    \n",
    "    selection = driver.find_element_by_xpath(\"/html/body/div[1]/div[1]/div[2]/div/div/div[1]/p\")\n",
    "    selection.click()           # After data collection, to select next city\n",
    "    "
   ]
  },
  {
   "cell_type": "code",
   "execution_count": 12,
   "metadata": {},
   "outputs": [],
   "source": [
    "time.sleep(2)\n",
    "close_but = driver.find_element_by_xpath(\"/html/body/div[1]/div[6]/div/div/h3/div\") # Close after all data is collected\n",
    "close_but.click()"
   ]
  },
  {
   "cell_type": "code",
   "execution_count": 13,
   "metadata": {},
   "outputs": [],
   "source": [
    "c24_df = pd.DataFrame({}) # Initiating empty data frame\n",
    "\n",
    "c24_df['Name'] = car_name\n",
    "c24_df['Transmission type'] = car_transmission \n",
    "c24_df['Variant'] = car_variant \n",
    "c24_df['Mileage'] = car_mileage \n",
    "c24_df['Owned'] = car_owner \n",
    "c24_df['Fuel type'] = car_fuel \n",
    "c24_df['City'] = car_city \n",
    "c24_df['Price'] = car_price \n",
    "  "
   ]
  },
  {
   "cell_type": "code",
   "execution_count": 14,
   "metadata": {},
   "outputs": [
    {
     "data": {
      "text/html": [
       "<div>\n",
       "<style scoped>\n",
       "    .dataframe tbody tr th:only-of-type {\n",
       "        vertical-align: middle;\n",
       "    }\n",
       "\n",
       "    .dataframe tbody tr th {\n",
       "        vertical-align: top;\n",
       "    }\n",
       "\n",
       "    .dataframe thead th {\n",
       "        text-align: right;\n",
       "    }\n",
       "</style>\n",
       "<table border=\"1\" class=\"dataframe\">\n",
       "  <thead>\n",
       "    <tr style=\"text-align: right;\">\n",
       "      <th></th>\n",
       "      <th>Name</th>\n",
       "      <th>Transmission type</th>\n",
       "      <th>Variant</th>\n",
       "      <th>Mileage</th>\n",
       "      <th>Owned</th>\n",
       "      <th>Fuel type</th>\n",
       "      <th>City</th>\n",
       "      <th>Price</th>\n",
       "    </tr>\n",
       "  </thead>\n",
       "  <tbody>\n",
       "    <tr>\n",
       "      <th>0</th>\n",
       "      <td>2020 Hyundai Verna</td>\n",
       "      <td>Manual</td>\n",
       "      <td>S PETROL MT Manual</td>\n",
       "      <td>19,158 km</td>\n",
       "      <td>1st Owner</td>\n",
       "      <td>Petrol</td>\n",
       "      <td>Rohtak</td>\n",
       "      <td>₹9,24,099</td>\n",
       "    </tr>\n",
       "    <tr>\n",
       "      <th>1</th>\n",
       "      <td>2014 Hyundai Verna</td>\n",
       "      <td>Manual</td>\n",
       "      <td>FLUIDIC 1.4 CRDI CX Manual</td>\n",
       "      <td>44,585 km</td>\n",
       "      <td>2nd Owner</td>\n",
       "      <td>Diesel</td>\n",
       "      <td>Rohtak</td>\n",
       "      <td>₹5,46,099</td>\n",
       "    </tr>\n",
       "    <tr>\n",
       "      <th>2</th>\n",
       "      <td>2018 Maruti Baleno</td>\n",
       "      <td>Manual</td>\n",
       "      <td>ZETA 1.2 K12 Manual</td>\n",
       "      <td>9,483 km</td>\n",
       "      <td>2nd Owner</td>\n",
       "      <td>Petrol</td>\n",
       "      <td>Rohtak</td>\n",
       "      <td>₹6,15,199</td>\n",
       "    </tr>\n",
       "    <tr>\n",
       "      <th>3</th>\n",
       "      <td>2016 Maruti Ertiga</td>\n",
       "      <td>Manual</td>\n",
       "      <td>VDI SHVS Manual</td>\n",
       "      <td>94,362 km</td>\n",
       "      <td>1st Owner</td>\n",
       "      <td>Diesel</td>\n",
       "      <td>Rohtak</td>\n",
       "      <td>₹5,84,199</td>\n",
       "    </tr>\n",
       "    <tr>\n",
       "      <th>4</th>\n",
       "      <td>2017 Hyundai Creta</td>\n",
       "      <td>Manual</td>\n",
       "      <td>1.6 E + VTVT Manual</td>\n",
       "      <td>17,227 km</td>\n",
       "      <td>2nd Owner</td>\n",
       "      <td>Petrol</td>\n",
       "      <td>Rohtak</td>\n",
       "      <td>₹8,12,299</td>\n",
       "    </tr>\n",
       "  </tbody>\n",
       "</table>\n",
       "</div>"
      ],
      "text/plain": [
       "                 Name Transmission type                     Variant  \\\n",
       "0  2020 Hyundai Verna            Manual          S PETROL MT Manual   \n",
       "1  2014 Hyundai Verna            Manual  FLUIDIC 1.4 CRDI CX Manual   \n",
       "2  2018 Maruti Baleno            Manual         ZETA 1.2 K12 Manual   \n",
       "3  2016 Maruti Ertiga            Manual             VDI SHVS Manual   \n",
       "4  2017 Hyundai Creta            Manual         1.6 E + VTVT Manual   \n",
       "\n",
       "     Mileage      Owned Fuel type    City      Price  \n",
       "0  19,158 km  1st Owner    Petrol  Rohtak  ₹9,24,099  \n",
       "1  44,585 km  2nd Owner    Diesel  Rohtak  ₹5,46,099  \n",
       "2   9,483 km  2nd Owner    Petrol  Rohtak  ₹6,15,199  \n",
       "3  94,362 km  1st Owner    Diesel  Rohtak  ₹5,84,199  \n",
       "4  17,227 km  2nd Owner    Petrol  Rohtak  ₹8,12,299  "
      ]
     },
     "execution_count": 14,
     "metadata": {},
     "output_type": "execute_result"
    }
   ],
   "source": [
    "c24_df.head() # Probing first 5 elements of the data frame"
   ]
  },
  {
   "cell_type": "code",
   "execution_count": 15,
   "metadata": {},
   "outputs": [
    {
     "data": {
      "text/html": [
       "<div>\n",
       "<style scoped>\n",
       "    .dataframe tbody tr th:only-of-type {\n",
       "        vertical-align: middle;\n",
       "    }\n",
       "\n",
       "    .dataframe tbody tr th {\n",
       "        vertical-align: top;\n",
       "    }\n",
       "\n",
       "    .dataframe thead th {\n",
       "        text-align: right;\n",
       "    }\n",
       "</style>\n",
       "<table border=\"1\" class=\"dataframe\">\n",
       "  <thead>\n",
       "    <tr style=\"text-align: right;\">\n",
       "      <th></th>\n",
       "      <th>Name</th>\n",
       "      <th>Transmission type</th>\n",
       "      <th>Variant</th>\n",
       "      <th>Mileage</th>\n",
       "      <th>Owned</th>\n",
       "      <th>Fuel type</th>\n",
       "      <th>City</th>\n",
       "      <th>Price</th>\n",
       "    </tr>\n",
       "  </thead>\n",
       "  <tbody>\n",
       "    <tr>\n",
       "      <th>5334</th>\n",
       "      <td>2018 Maruti Swift</td>\n",
       "      <td>Manual</td>\n",
       "      <td>VDI Manual</td>\n",
       "      <td>71,530 km</td>\n",
       "      <td>1st Owner</td>\n",
       "      <td>Diesel</td>\n",
       "      <td>Lucknow</td>\n",
       "      <td>₹6,15,099</td>\n",
       "    </tr>\n",
       "    <tr>\n",
       "      <th>5335</th>\n",
       "      <td>2018 Maruti Vitara Brezza</td>\n",
       "      <td>Manual</td>\n",
       "      <td>ZDI Manual</td>\n",
       "      <td>80,169 km</td>\n",
       "      <td>1st Owner</td>\n",
       "      <td>Diesel</td>\n",
       "      <td>Lucknow</td>\n",
       "      <td>₹8,07,199</td>\n",
       "    </tr>\n",
       "    <tr>\n",
       "      <th>5336</th>\n",
       "      <td>2019 Maruti Alto K10</td>\n",
       "      <td>Manual</td>\n",
       "      <td>VXI Manual</td>\n",
       "      <td>18,238 km</td>\n",
       "      <td>1st Owner</td>\n",
       "      <td>Petrol</td>\n",
       "      <td>Lucknow</td>\n",
       "      <td>₹3,88,799</td>\n",
       "    </tr>\n",
       "    <tr>\n",
       "      <th>5337</th>\n",
       "      <td>2020 Maruti Alto</td>\n",
       "      <td>Manual</td>\n",
       "      <td>VXI Manual</td>\n",
       "      <td>7,802 km</td>\n",
       "      <td>1st Owner</td>\n",
       "      <td>Petrol</td>\n",
       "      <td>Lucknow</td>\n",
       "      <td>₹3,95,699</td>\n",
       "    </tr>\n",
       "    <tr>\n",
       "      <th>5338</th>\n",
       "      <td>2018 Honda Amaze</td>\n",
       "      <td>Manual</td>\n",
       "      <td>1.2 V CVT I VTEC Manual</td>\n",
       "      <td>25,742 km</td>\n",
       "      <td>1st Owner</td>\n",
       "      <td>Petrol</td>\n",
       "      <td>Lucknow</td>\n",
       "      <td>₹7,12,799</td>\n",
       "    </tr>\n",
       "  </tbody>\n",
       "</table>\n",
       "</div>"
      ],
      "text/plain": [
       "                           Name Transmission type                  Variant  \\\n",
       "5334          2018 Maruti Swift            Manual               VDI Manual   \n",
       "5335  2018 Maruti Vitara Brezza            Manual               ZDI Manual   \n",
       "5336       2019 Maruti Alto K10            Manual               VXI Manual   \n",
       "5337           2020 Maruti Alto            Manual               VXI Manual   \n",
       "5338           2018 Honda Amaze            Manual  1.2 V CVT I VTEC Manual   \n",
       "\n",
       "        Mileage      Owned Fuel type     City      Price  \n",
       "5334  71,530 km  1st Owner    Diesel  Lucknow  ₹6,15,099  \n",
       "5335  80,169 km  1st Owner    Diesel  Lucknow  ₹8,07,199  \n",
       "5336  18,238 km  1st Owner    Petrol  Lucknow  ₹3,88,799  \n",
       "5337   7,802 km  1st Owner    Petrol  Lucknow  ₹3,95,699  \n",
       "5338  25,742 km  1st Owner    Petrol  Lucknow  ₹7,12,799  "
      ]
     },
     "execution_count": 15,
     "metadata": {},
     "output_type": "execute_result"
    }
   ],
   "source": [
    "c24_df.tail() # Probing bottom 5 elements of the data frame"
   ]
  },
  {
   "cell_type": "code",
   "execution_count": 16,
   "metadata": {},
   "outputs": [],
   "source": [
    "c24_df.to_csv('car_data.csv') # Saving the dataframe as .csv"
   ]
  },
  {
   "cell_type": "code",
   "execution_count": 17,
   "metadata": {},
   "outputs": [],
   "source": [
    "driver.quit()"
   ]
  },
  {
   "cell_type": "markdown",
   "metadata": {},
   "source": [
    "## Data collection phase complete"
   ]
  }
 ],
 "metadata": {
  "kernelspec": {
   "display_name": "Python 3",
   "language": "python",
   "name": "python3"
  },
  "language_info": {
   "codemirror_mode": {
    "name": "ipython",
    "version": 3
   },
   "file_extension": ".py",
   "mimetype": "text/x-python",
   "name": "python",
   "nbconvert_exporter": "python",
   "pygments_lexer": "ipython3",
   "version": "3.8.5"
  }
 },
 "nbformat": 4,
 "nbformat_minor": 4
}
