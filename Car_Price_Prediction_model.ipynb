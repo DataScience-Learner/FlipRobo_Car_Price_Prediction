{
 "cells": [
  {
   "cell_type": "code",
   "execution_count": 1,
   "metadata": {},
   "outputs": [],
   "source": [
    "import pandas as pd\n",
    "import numpy as np\n",
    "import datetime\n",
    "import seaborn as sns\n",
    "import matplotlib.pyplot as plt\n",
    "%matplotlib inline\n",
    "import warnings\n",
    "warnings.filterwarnings('ignore')"
   ]
  },
  {
   "cell_type": "code",
   "execution_count": 2,
   "metadata": {},
   "outputs": [],
   "source": [
    "df = pd.read_csv(\"Desktop/car_data.csv\", index_col = 'Unnamed: 0') # Importing the data\n",
    "pd.set_option('display.max_columns', 500)"
   ]
  },
  {
   "cell_type": "code",
   "execution_count": 3,
   "metadata": {},
   "outputs": [
    {
     "data": {
      "text/html": [
       "<div>\n",
       "<style scoped>\n",
       "    .dataframe tbody tr th:only-of-type {\n",
       "        vertical-align: middle;\n",
       "    }\n",
       "\n",
       "    .dataframe tbody tr th {\n",
       "        vertical-align: top;\n",
       "    }\n",
       "\n",
       "    .dataframe thead th {\n",
       "        text-align: right;\n",
       "    }\n",
       "</style>\n",
       "<table border=\"1\" class=\"dataframe\">\n",
       "  <thead>\n",
       "    <tr style=\"text-align: right;\">\n",
       "      <th></th>\n",
       "      <th>Name</th>\n",
       "      <th>Transmission type</th>\n",
       "      <th>Variant</th>\n",
       "      <th>Mileage</th>\n",
       "      <th>Owned</th>\n",
       "      <th>Fuel type</th>\n",
       "      <th>City</th>\n",
       "      <th>Price</th>\n",
       "    </tr>\n",
       "  </thead>\n",
       "  <tbody>\n",
       "    <tr>\n",
       "      <th>0</th>\n",
       "      <td>2020 Hyundai Verna</td>\n",
       "      <td>Manual</td>\n",
       "      <td>S PETROL MT Manual</td>\n",
       "      <td>19,158 km</td>\n",
       "      <td>1st Owner</td>\n",
       "      <td>Petrol</td>\n",
       "      <td>Rohtak</td>\n",
       "      <td>₹9,24,099</td>\n",
       "    </tr>\n",
       "    <tr>\n",
       "      <th>1</th>\n",
       "      <td>2014 Hyundai Verna</td>\n",
       "      <td>Manual</td>\n",
       "      <td>FLUIDIC 1.4 CRDI CX Manual</td>\n",
       "      <td>44,585 km</td>\n",
       "      <td>2nd Owner</td>\n",
       "      <td>Diesel</td>\n",
       "      <td>Rohtak</td>\n",
       "      <td>₹5,46,099</td>\n",
       "    </tr>\n",
       "    <tr>\n",
       "      <th>2</th>\n",
       "      <td>2018 Maruti Baleno</td>\n",
       "      <td>Manual</td>\n",
       "      <td>ZETA 1.2 K12 Manual</td>\n",
       "      <td>9,483 km</td>\n",
       "      <td>2nd Owner</td>\n",
       "      <td>Petrol</td>\n",
       "      <td>Rohtak</td>\n",
       "      <td>₹6,15,199</td>\n",
       "    </tr>\n",
       "    <tr>\n",
       "      <th>3</th>\n",
       "      <td>2016 Maruti Ertiga</td>\n",
       "      <td>Manual</td>\n",
       "      <td>VDI SHVS Manual</td>\n",
       "      <td>94,362 km</td>\n",
       "      <td>1st Owner</td>\n",
       "      <td>Diesel</td>\n",
       "      <td>Rohtak</td>\n",
       "      <td>₹5,84,199</td>\n",
       "    </tr>\n",
       "    <tr>\n",
       "      <th>4</th>\n",
       "      <td>2017 Hyundai Creta</td>\n",
       "      <td>Manual</td>\n",
       "      <td>1.6 E + VTVT Manual</td>\n",
       "      <td>17,227 km</td>\n",
       "      <td>2nd Owner</td>\n",
       "      <td>Petrol</td>\n",
       "      <td>Rohtak</td>\n",
       "      <td>₹8,12,299</td>\n",
       "    </tr>\n",
       "  </tbody>\n",
       "</table>\n",
       "</div>"
      ],
      "text/plain": [
       "                 Name Transmission type                     Variant  \\\n",
       "0  2020 Hyundai Verna            Manual          S PETROL MT Manual   \n",
       "1  2014 Hyundai Verna            Manual  FLUIDIC 1.4 CRDI CX Manual   \n",
       "2  2018 Maruti Baleno            Manual         ZETA 1.2 K12 Manual   \n",
       "3  2016 Maruti Ertiga            Manual             VDI SHVS Manual   \n",
       "4  2017 Hyundai Creta            Manual         1.6 E + VTVT Manual   \n",
       "\n",
       "     Mileage      Owned Fuel type    City      Price  \n",
       "0  19,158 km  1st Owner    Petrol  Rohtak  ₹9,24,099  \n",
       "1  44,585 km  2nd Owner    Diesel  Rohtak  ₹5,46,099  \n",
       "2   9,483 km  2nd Owner    Petrol  Rohtak  ₹6,15,199  \n",
       "3  94,362 km  1st Owner    Diesel  Rohtak  ₹5,84,199  \n",
       "4  17,227 km  2nd Owner    Petrol  Rohtak  ₹8,12,299  "
      ]
     },
     "execution_count": 3,
     "metadata": {},
     "output_type": "execute_result"
    }
   ],
   "source": [
    "df.head() # Probing the data"
   ]
  },
  {
   "cell_type": "code",
   "execution_count": 4,
   "metadata": {},
   "outputs": [],
   "source": [
    "df.replace(',','', regex=True, inplace=True) # Replacing the transmission type from name as we already have it\n",
    "df['Variant'] = df['Variant'].str.replace('Manual', '')\n",
    "df['Variant'] = df['Variant'].str.replace('Automatic', '')"
   ]
  },
  {
   "cell_type": "code",
   "execution_count": 5,
   "metadata": {},
   "outputs": [
    {
     "data": {
      "text/html": [
       "<div>\n",
       "<style scoped>\n",
       "    .dataframe tbody tr th:only-of-type {\n",
       "        vertical-align: middle;\n",
       "    }\n",
       "\n",
       "    .dataframe tbody tr th {\n",
       "        vertical-align: top;\n",
       "    }\n",
       "\n",
       "    .dataframe thead th {\n",
       "        text-align: right;\n",
       "    }\n",
       "</style>\n",
       "<table border=\"1\" class=\"dataframe\">\n",
       "  <thead>\n",
       "    <tr style=\"text-align: right;\">\n",
       "      <th></th>\n",
       "      <th>Name</th>\n",
       "      <th>Transmission type</th>\n",
       "      <th>Variant</th>\n",
       "      <th>Mileage</th>\n",
       "      <th>Owned</th>\n",
       "      <th>Fuel type</th>\n",
       "      <th>City</th>\n",
       "      <th>Price</th>\n",
       "    </tr>\n",
       "  </thead>\n",
       "  <tbody>\n",
       "    <tr>\n",
       "      <th>5334</th>\n",
       "      <td>2018 Maruti Swift</td>\n",
       "      <td>Manual</td>\n",
       "      <td>VDI</td>\n",
       "      <td>71530 km</td>\n",
       "      <td>1st Owner</td>\n",
       "      <td>Diesel</td>\n",
       "      <td>Lucknow</td>\n",
       "      <td>₹615099</td>\n",
       "    </tr>\n",
       "    <tr>\n",
       "      <th>5335</th>\n",
       "      <td>2018 Maruti Vitara Brezza</td>\n",
       "      <td>Manual</td>\n",
       "      <td>ZDI</td>\n",
       "      <td>80169 km</td>\n",
       "      <td>1st Owner</td>\n",
       "      <td>Diesel</td>\n",
       "      <td>Lucknow</td>\n",
       "      <td>₹807199</td>\n",
       "    </tr>\n",
       "    <tr>\n",
       "      <th>5336</th>\n",
       "      <td>2019 Maruti Alto K10</td>\n",
       "      <td>Manual</td>\n",
       "      <td>VXI</td>\n",
       "      <td>18238 km</td>\n",
       "      <td>1st Owner</td>\n",
       "      <td>Petrol</td>\n",
       "      <td>Lucknow</td>\n",
       "      <td>₹388799</td>\n",
       "    </tr>\n",
       "    <tr>\n",
       "      <th>5337</th>\n",
       "      <td>2020 Maruti Alto</td>\n",
       "      <td>Manual</td>\n",
       "      <td>VXI</td>\n",
       "      <td>7802 km</td>\n",
       "      <td>1st Owner</td>\n",
       "      <td>Petrol</td>\n",
       "      <td>Lucknow</td>\n",
       "      <td>₹395699</td>\n",
       "    </tr>\n",
       "    <tr>\n",
       "      <th>5338</th>\n",
       "      <td>2018 Honda Amaze</td>\n",
       "      <td>Manual</td>\n",
       "      <td>1.2 V CVT I VTEC</td>\n",
       "      <td>25742 km</td>\n",
       "      <td>1st Owner</td>\n",
       "      <td>Petrol</td>\n",
       "      <td>Lucknow</td>\n",
       "      <td>₹712799</td>\n",
       "    </tr>\n",
       "  </tbody>\n",
       "</table>\n",
       "</div>"
      ],
      "text/plain": [
       "                           Name Transmission type            Variant  \\\n",
       "5334          2018 Maruti Swift            Manual               VDI    \n",
       "5335  2018 Maruti Vitara Brezza            Manual               ZDI    \n",
       "5336       2019 Maruti Alto K10            Manual               VXI    \n",
       "5337           2020 Maruti Alto            Manual               VXI    \n",
       "5338           2018 Honda Amaze            Manual  1.2 V CVT I VTEC    \n",
       "\n",
       "       Mileage      Owned Fuel type     City    Price  \n",
       "5334  71530 km  1st Owner    Diesel  Lucknow  ₹615099  \n",
       "5335  80169 km  1st Owner    Diesel  Lucknow  ₹807199  \n",
       "5336  18238 km  1st Owner    Petrol  Lucknow  ₹388799  \n",
       "5337   7802 km  1st Owner    Petrol  Lucknow  ₹395699  \n",
       "5338  25742 km  1st Owner    Petrol  Lucknow  ₹712799  "
      ]
     },
     "execution_count": 5,
     "metadata": {},
     "output_type": "execute_result"
    }
   ],
   "source": [
    "df.tail()"
   ]
  },
  {
   "cell_type": "code",
   "execution_count": 6,
   "metadata": {},
   "outputs": [
    {
     "data": {
      "text/plain": [
       "(5339, 8)"
      ]
     },
     "execution_count": 6,
     "metadata": {},
     "output_type": "execute_result"
    }
   ],
   "source": [
    "df.shape # We have 5339 rows and 8 coulmns"
   ]
  },
  {
   "cell_type": "code",
   "execution_count": 7,
   "metadata": {},
   "outputs": [
    {
     "name": "stdout",
     "output_type": "stream",
     "text": [
      "<class 'pandas.core.frame.DataFrame'>\n",
      "Int64Index: 5339 entries, 0 to 5338\n",
      "Data columns (total 8 columns):\n",
      " #   Column             Non-Null Count  Dtype \n",
      "---  ------             --------------  ----- \n",
      " 0   Name               5339 non-null   object\n",
      " 1   Transmission type  5203 non-null   object\n",
      " 2   Variant            5339 non-null   object\n",
      " 3   Mileage            5339 non-null   object\n",
      " 4   Owned              5339 non-null   object\n",
      " 5   Fuel type          5339 non-null   object\n",
      " 6   City               5339 non-null   object\n",
      " 7   Price              5339 non-null   object\n",
      "dtypes: object(8)\n",
      "memory usage: 375.4+ KB\n"
     ]
    }
   ],
   "source": [
    "df.info() # Basic info about data types, we will need to convert some of them to integer"
   ]
  },
  {
   "cell_type": "code",
   "execution_count": 8,
   "metadata": {},
   "outputs": [
    {
     "data": {
      "text/plain": [
       "Name                  427\n",
       "Transmission type       2\n",
       "Variant               529\n",
       "Mileage              2539\n",
       "Owned                   5\n",
       "Fuel type               4\n",
       "City                   22\n",
       "Price                2167\n",
       "dtype: int64"
      ]
     },
     "execution_count": 8,
     "metadata": {},
     "output_type": "execute_result"
    }
   ],
   "source": [
    "df.nunique() # Unique values in each column"
   ]
  },
  {
   "cell_type": "code",
   "execution_count": 9,
   "metadata": {},
   "outputs": [
    {
     "data": {
      "text/plain": [
       "Name                   0\n",
       "Transmission type    136\n",
       "Variant                0\n",
       "Mileage                0\n",
       "Owned                  0\n",
       "Fuel type              0\n",
       "City                   0\n",
       "Price                  0\n",
       "dtype: int64"
      ]
     },
     "execution_count": 9,
     "metadata": {},
     "output_type": "execute_result"
    }
   ],
   "source": [
    "df.isnull().sum() # Some value in transmission type are missing"
   ]
  },
  {
   "cell_type": "code",
   "execution_count": 10,
   "metadata": {},
   "outputs": [
    {
     "data": {
      "text/plain": [
       "<AxesSubplot:>"
      ]
     },
     "execution_count": 10,
     "metadata": {},
     "output_type": "execute_result"
    },
    {
     "data": {
      "image/png": "[encoded data removed]",
      "text/plain": [
       "<Figure size 432x288 with 1 Axes>"
      ]
     },
     "metadata": {
      "needs_background": "light"
     },
     "output_type": "display_data"
    }
   ],
   "source": [
    "df['Transmission type'].value_counts().plot.bar() "
   ]
  },
  {
   "cell_type": "markdown",
   "metadata": {},
   "source": [
    "Most of the cars are Manual transmission."
   ]
  },
  {
   "cell_type": "code",
   "execution_count": 11,
   "metadata": {},
   "outputs": [],
   "source": [
    "df['Year'] = df.Name.str[:4] # Extracting year from name, and storing it as integer\n",
    "df['Year'] = df['Year'].astype(int)"
   ]
  },
  {
   "cell_type": "code",
   "execution_count": 12,
   "metadata": {},
   "outputs": [],
   "source": [
    "df.Name = df.Name.str[4:] # Slicing the name so that it doesn't contain the year"
   ]
  },
  {
   "cell_type": "code",
   "execution_count": 13,
   "metadata": {},
   "outputs": [],
   "source": [
    "df.Mileage = df.Mileage.str[:-3] # Removing ' km' form end of Mileage and converting it to integer\n",
    "df['Mileage'] = df['Mileage'].astype(int)"
   ]
  },
  {
   "cell_type": "code",
   "execution_count": 14,
   "metadata": {},
   "outputs": [],
   "source": [
    "df.Price = df.Price.str[1:] # Removing the rupee symbol '₹' from price, and changign type to integer\n",
    "df ['Price'] = df['Price'].astype(int)"
   ]
  },
  {
   "cell_type": "code",
   "execution_count": 15,
   "metadata": {},
   "outputs": [],
   "source": [
    "df['Manufacturer'] = df['Name'].str.split(' ').str[1] # Removing white space, and separating Manufacturer name form car name\n",
    "df['Model'] = df['Name'].str.split(' ').str[2]"
   ]
  },
  {
   "cell_type": "code",
   "execution_count": 16,
   "metadata": {},
   "outputs": [
    {
     "data": {
      "text/html": [
       "<div>\n",
       "<style scoped>\n",
       "    .dataframe tbody tr th:only-of-type {\n",
       "        vertical-align: middle;\n",
       "    }\n",
       "\n",
       "    .dataframe tbody tr th {\n",
       "        vertical-align: top;\n",
       "    }\n",
       "\n",
       "    .dataframe thead th {\n",
       "        text-align: right;\n",
       "    }\n",
       "</style>\n",
       "<table border=\"1\" class=\"dataframe\">\n",
       "  <thead>\n",
       "    <tr style=\"text-align: right;\">\n",
       "      <th></th>\n",
       "      <th>Name</th>\n",
       "      <th>Transmission type</th>\n",
       "      <th>Variant</th>\n",
       "      <th>Mileage</th>\n",
       "      <th>Owned</th>\n",
       "      <th>Fuel type</th>\n",
       "      <th>City</th>\n",
       "      <th>Price</th>\n",
       "      <th>Year</th>\n",
       "      <th>Manufacturer</th>\n",
       "      <th>Model</th>\n",
       "    </tr>\n",
       "  </thead>\n",
       "  <tbody>\n",
       "    <tr>\n",
       "      <th>0</th>\n",
       "      <td>Hyundai Verna</td>\n",
       "      <td>Manual</td>\n",
       "      <td>S PETROL MT</td>\n",
       "      <td>19158</td>\n",
       "      <td>1st Owner</td>\n",
       "      <td>Petrol</td>\n",
       "      <td>Rohtak</td>\n",
       "      <td>924099</td>\n",
       "      <td>2020</td>\n",
       "      <td>Hyundai</td>\n",
       "      <td>Verna</td>\n",
       "    </tr>\n",
       "    <tr>\n",
       "      <th>1</th>\n",
       "      <td>Hyundai Verna</td>\n",
       "      <td>Manual</td>\n",
       "      <td>FLUIDIC 1.4 CRDI CX</td>\n",
       "      <td>44585</td>\n",
       "      <td>2nd Owner</td>\n",
       "      <td>Diesel</td>\n",
       "      <td>Rohtak</td>\n",
       "      <td>546099</td>\n",
       "      <td>2014</td>\n",
       "      <td>Hyundai</td>\n",
       "      <td>Verna</td>\n",
       "    </tr>\n",
       "    <tr>\n",
       "      <th>2</th>\n",
       "      <td>Maruti Baleno</td>\n",
       "      <td>Manual</td>\n",
       "      <td>ZETA 1.2 K12</td>\n",
       "      <td>9483</td>\n",
       "      <td>2nd Owner</td>\n",
       "      <td>Petrol</td>\n",
       "      <td>Rohtak</td>\n",
       "      <td>615199</td>\n",
       "      <td>2018</td>\n",
       "      <td>Maruti</td>\n",
       "      <td>Baleno</td>\n",
       "    </tr>\n",
       "    <tr>\n",
       "      <th>3</th>\n",
       "      <td>Maruti Ertiga</td>\n",
       "      <td>Manual</td>\n",
       "      <td>VDI SHVS</td>\n",
       "      <td>94362</td>\n",
       "      <td>1st Owner</td>\n",
       "      <td>Diesel</td>\n",
       "      <td>Rohtak</td>\n",
       "      <td>584199</td>\n",
       "      <td>2016</td>\n",
       "      <td>Maruti</td>\n",
       "      <td>Ertiga</td>\n",
       "    </tr>\n",
       "    <tr>\n",
       "      <th>4</th>\n",
       "      <td>Hyundai Creta</td>\n",
       "      <td>Manual</td>\n",
       "      <td>1.6 E + VTVT</td>\n",
       "      <td>17227</td>\n",
       "      <td>2nd Owner</td>\n",
       "      <td>Petrol</td>\n",
       "      <td>Rohtak</td>\n",
       "      <td>812299</td>\n",
       "      <td>2017</td>\n",
       "      <td>Hyundai</td>\n",
       "      <td>Creta</td>\n",
       "    </tr>\n",
       "  </tbody>\n",
       "</table>\n",
       "</div>"
      ],
      "text/plain": [
       "             Name Transmission type               Variant  Mileage      Owned  \\\n",
       "0   Hyundai Verna            Manual          S PETROL MT     19158  1st Owner   \n",
       "1   Hyundai Verna            Manual  FLUIDIC 1.4 CRDI CX     44585  2nd Owner   \n",
       "2   Maruti Baleno            Manual         ZETA 1.2 K12      9483  2nd Owner   \n",
       "3   Maruti Ertiga            Manual             VDI SHVS     94362  1st Owner   \n",
       "4   Hyundai Creta            Manual         1.6 E + VTVT     17227  2nd Owner   \n",
       "\n",
       "  Fuel type    City   Price  Year Manufacturer   Model  \n",
       "0    Petrol  Rohtak  924099  2020      Hyundai   Verna  \n",
       "1    Diesel  Rohtak  546099  2014      Hyundai   Verna  \n",
       "2    Petrol  Rohtak  615199  2018       Maruti  Baleno  \n",
       "3    Diesel  Rohtak  584199  2016       Maruti  Ertiga  \n",
       "4    Petrol  Rohtak  812299  2017      Hyundai   Creta  "
      ]
     },
     "execution_count": 16,
     "metadata": {},
     "output_type": "execute_result"
    }
   ],
   "source": [
    "df.head() # Checking if everythgin worked right, it has."
   ]
  },
  {
   "cell_type": "code",
   "execution_count": 17,
   "metadata": {},
   "outputs": [
    {
     "data": {
      "text/plain": [
       "Manual       4623\n",
       "Automatic     580\n",
       "Name: Transmission type, dtype: int64"
      ]
     },
     "execution_count": 17,
     "metadata": {},
     "output_type": "execute_result"
    }
   ],
   "source": [
    "df['Transmission type'].value_counts() # Value counts of transmission"
   ]
  },
  {
   "cell_type": "code",
   "execution_count": 18,
   "metadata": {},
   "outputs": [
    {
     "data": {
      "text/plain": [
       "1st Owner    4454\n",
       "2nd Owner     768\n",
       "3rd Owner     113\n",
       "5th Owner       3\n",
       "4th Owner       1\n",
       "Name: Owned, dtype: int64"
      ]
     },
     "execution_count": 18,
     "metadata": {},
     "output_type": "execute_result"
    }
   ],
   "source": [
    "df['Owned'].value_counts() # Value counts of Owned"
   ]
  },
  {
   "cell_type": "code",
   "execution_count": 19,
   "metadata": {},
   "outputs": [
    {
     "data": {
      "text/plain": [
       "Petrol          3677\n",
       "Diesel          1560\n",
       "Petrol + CNG     101\n",
       "Petrol + LPG       1\n",
       "Name: Fuel type, dtype: int64"
      ]
     },
     "execution_count": 19,
     "metadata": {},
     "output_type": "execute_result"
    }
   ],
   "source": [
    "df['Fuel type'].value_counts() # Value counts of Fuel type"
   ]
  },
  {
   "cell_type": "code",
   "execution_count": 20,
   "metadata": {},
   "outputs": [
    {
     "data": {
      "text/plain": [
       "Mumbai        513\n",
       "Delhi         432\n",
       "Pune          419\n",
       "Chandigarh    415\n",
       "Ahmedabad     321\n",
       "Bengaluru     305\n",
       "Surat         299\n",
       "Nasik         273\n",
       "Chennai       264\n",
       "Rajkot        256\n",
       "Rohtak        237\n",
       "Vadodara      235\n",
       "Panipat       229\n",
       "Kolkata       228\n",
       "Jaipur        228\n",
       "Meerut        227\n",
       "Ludhiana      187\n",
       "Kochi          97\n",
       "Hyderabad      73\n",
       "Lucknow        53\n",
       "Bhopal         27\n",
       "Mysore         21\n",
       "Name: City, dtype: int64"
      ]
     },
     "execution_count": 20,
     "metadata": {},
     "output_type": "execute_result"
    }
   ],
   "source": [
    "df['City'].value_counts() # Value counts of City"
   ]
  },
  {
   "cell_type": "code",
   "execution_count": 21,
   "metadata": {},
   "outputs": [
    {
     "data": {
      "text/html": [
       "<div>\n",
       "<style scoped>\n",
       "    .dataframe tbody tr th:only-of-type {\n",
       "        vertical-align: middle;\n",
       "    }\n",
       "\n",
       "    .dataframe tbody tr th {\n",
       "        vertical-align: top;\n",
       "    }\n",
       "\n",
       "    .dataframe thead th {\n",
       "        text-align: right;\n",
       "    }\n",
       "</style>\n",
       "<table border=\"1\" class=\"dataframe\">\n",
       "  <thead>\n",
       "    <tr style=\"text-align: right;\">\n",
       "      <th></th>\n",
       "      <th>Mileage</th>\n",
       "      <th>Price</th>\n",
       "      <th>Year</th>\n",
       "    </tr>\n",
       "  </thead>\n",
       "  <tbody>\n",
       "    <tr>\n",
       "      <th>count</th>\n",
       "      <td>5.339000e+03</td>\n",
       "      <td>5.339000e+03</td>\n",
       "      <td>5339.000000</td>\n",
       "    </tr>\n",
       "    <tr>\n",
       "      <th>mean</th>\n",
       "      <td>4.427197e+04</td>\n",
       "      <td>5.763635e+05</td>\n",
       "      <td>2016.757258</td>\n",
       "    </tr>\n",
       "    <tr>\n",
       "      <th>std</th>\n",
       "      <td>3.781714e+04</td>\n",
       "      <td>2.889991e+05</td>\n",
       "      <td>2.383101</td>\n",
       "    </tr>\n",
       "    <tr>\n",
       "      <th>min</th>\n",
       "      <td>3.500000e+02</td>\n",
       "      <td>1.263990e+05</td>\n",
       "      <td>2008.000000</td>\n",
       "    </tr>\n",
       "    <tr>\n",
       "      <th>25%</th>\n",
       "      <td>1.753000e+04</td>\n",
       "      <td>3.865990e+05</td>\n",
       "      <td>2015.000000</td>\n",
       "    </tr>\n",
       "    <tr>\n",
       "      <th>50%</th>\n",
       "      <td>3.463100e+04</td>\n",
       "      <td>5.089990e+05</td>\n",
       "      <td>2017.000000</td>\n",
       "    </tr>\n",
       "    <tr>\n",
       "      <th>75%</th>\n",
       "      <td>6.236600e+04</td>\n",
       "      <td>6.823990e+05</td>\n",
       "      <td>2019.000000</td>\n",
       "    </tr>\n",
       "    <tr>\n",
       "      <th>max</th>\n",
       "      <td>1.002408e+06</td>\n",
       "      <td>2.938999e+06</td>\n",
       "      <td>2021.000000</td>\n",
       "    </tr>\n",
       "  </tbody>\n",
       "</table>\n",
       "</div>"
      ],
      "text/plain": [
       "            Mileage         Price         Year\n",
       "count  5.339000e+03  5.339000e+03  5339.000000\n",
       "mean   4.427197e+04  5.763635e+05  2016.757258\n",
       "std    3.781714e+04  2.889991e+05     2.383101\n",
       "min    3.500000e+02  1.263990e+05  2008.000000\n",
       "25%    1.753000e+04  3.865990e+05  2015.000000\n",
       "50%    3.463100e+04  5.089990e+05  2017.000000\n",
       "75%    6.236600e+04  6.823990e+05  2019.000000\n",
       "max    1.002408e+06  2.938999e+06  2021.000000"
      ]
     },
     "execution_count": 21,
     "metadata": {},
     "output_type": "execute_result"
    }
   ],
   "source": [
    "df.describe() # Cheking some basic stats about our data"
   ]
  },
  {
   "cell_type": "markdown",
   "metadata": {},
   "source": [
    "Minimum Mileage 350 km;\n",
    "Maximum Mileage 1,000,000 km\n",
    "\n",
    "Oldest car: 2008;\n",
    "Newest car: 2021\n",
    "\n",
    "Minimum price: Rs. 126,000;\n",
    "Maximum price of car: Rs. 29,380,000"
   ]
  },
  {
   "cell_type": "markdown",
   "metadata": {},
   "source": [
    "#### EDA"
   ]
  },
  {
   "cell_type": "code",
   "execution_count": 22,
   "metadata": {},
   "outputs": [
    {
     "data": {
      "image/png": "[encoded data removed]",
      "text/plain": [
       "<Figure size 1440x720 with 1 Axes>"
      ]
     },
     "metadata": {
      "needs_background": "light"
     },
     "output_type": "display_data"
    }
   ],
   "source": [
    "# Looking at distribution of selling price of car, which is our target variable.\n",
    "# We can observe that the distribution is right skewed\n",
    "\n",
    "df['Price'].hist(bins=100,figsize=(20,10),rwidth = 0.75)\n",
    "plt.ticklabel_format(style='plain', axis='x')\n",
    "plt.title('Car Prices')\n",
    "plt.show()"
   ]
  },
  {
   "cell_type": "code",
   "execution_count": 23,
   "metadata": {},
   "outputs": [
    {
     "data": {
      "text/plain": [
       "<AxesSubplot:xlabel='Mileage', ylabel='Count'>"
      ]
     },
     "execution_count": 23,
     "metadata": {},
     "output_type": "execute_result"
    },
    {
     "data": {
      "image/png": "[encoded data removed]",
      "text/plain": [
       "<Figure size 432x288 with 1 Axes>"
      ]
     },
     "metadata": {
      "needs_background": "light"
     },
     "output_type": "display_data"
    }
   ],
   "source": [
    "sns.histplot(df['Mileage'],bins = 100 , kde = True, color = 'green') # Most of the mileage of cars is less that 200,000 km"
   ]
  },
  {
   "cell_type": "code",
   "execution_count": 24,
   "metadata": {},
   "outputs": [
    {
     "data": {
      "text/plain": [
       "<AxesSubplot:xlabel='Year', ylabel='Count'>"
      ]
     },
     "execution_count": 24,
     "metadata": {},
     "output_type": "execute_result"
    },
    {
     "data": {
      "image/png": "[encoded data removed]",
      "text/plain": [
       "<Figure size 432x288 with 1 Axes>"
      ]
     },
     "metadata": {
      "needs_background": "light"
     },
     "output_type": "display_data"
    }
   ],
   "source": [
    "sns.histplot(df['Year'],bins = 100 , kde = True, color = 'green') # Most of the flight prices range from 2000-20000"
   ]
  },
  {
   "cell_type": "code",
   "execution_count": 25,
   "metadata": {},
   "outputs": [
    {
     "data": {
      "text/plain": [
       "<AxesSubplot:>"
      ]
     },
     "execution_count": 25,
     "metadata": {},
     "output_type": "execute_result"
    },
    {
     "data": {
      "image/png": "[encoded data removed]",
      "text/plain": [
       "<Figure size 432x288 with 1 Axes>"
      ]
     },
     "metadata": {
      "needs_background": "light"
     },
     "output_type": "display_data"
    }
   ],
   "source": [
    "df['Year'].value_counts().plot.bar() # Year plot by count"
   ]
  },
  {
   "cell_type": "markdown",
   "metadata": {},
   "source": [
    "We can see that most of the cars in this data were bought between 2015 and 2020"
   ]
  },
  {
   "cell_type": "markdown",
   "metadata": {},
   "source": [
    "Checking the data for some cars"
   ]
  },
  {
   "cell_type": "code",
   "execution_count": 26,
   "metadata": {},
   "outputs": [
    {
     "data": {
      "text/plain": [
       "Mileage    1879\n",
       "dtype: int64"
      ]
     },
     "execution_count": 26,
     "metadata": {},
     "output_type": "execute_result"
    }
   ],
   "source": [
    "df[['Mileage']].idxmax() # Which df index has maximum mileage"
   ]
  },
  {
   "cell_type": "code",
   "execution_count": 27,
   "metadata": {},
   "outputs": [
    {
     "data": {
      "text/plain": [
       "Name                  Hyundai i20\n",
       "Transmission type          Manual\n",
       "Variant              MAGNA O 1.2 \n",
       "Mileage                   1002408\n",
       "Owned                   2nd Owner\n",
       "Fuel type                  Petrol\n",
       "City                    Bengaluru\n",
       "Price                      429399\n",
       "Year                         2010\n",
       "Manufacturer              Hyundai\n",
       "Model                         i20\n",
       "Name: 1879, dtype: object"
      ]
     },
     "execution_count": 27,
     "metadata": {},
     "output_type": "execute_result"
    }
   ],
   "source": [
    "df.iloc[1879] # This car has max mileage"
   ]
  },
  {
   "cell_type": "code",
   "execution_count": 28,
   "metadata": {},
   "outputs": [
    {
     "data": {
      "text/plain": [
       "Price    2007\n",
       "dtype: int64"
      ]
     },
     "execution_count": 28,
     "metadata": {},
     "output_type": "execute_result"
    }
   ],
   "source": [
    "df[['Price']].idxmax() # Which df index has maximum price"
   ]
  },
  {
   "cell_type": "code",
   "execution_count": 29,
   "metadata": {},
   "outputs": [
    {
     "data": {
      "text/plain": [
       "Name                  Toyota Fortuner\n",
       "Transmission type              Manual\n",
       "Variant                   2.8 4x2 MT \n",
       "Mileage                         35464\n",
       "Owned                       1st Owner\n",
       "Fuel type                      Diesel\n",
       "City                        Bengaluru\n",
       "Price                         2938999\n",
       "Year                             2018\n",
       "Manufacturer                   Toyota\n",
       "Model                        Fortuner\n",
       "Name: 2007, dtype: object"
      ]
     },
     "execution_count": 29,
     "metadata": {},
     "output_type": "execute_result"
    }
   ],
   "source": [
    "df.iloc[2007] # This car has max price"
   ]
  },
  {
   "cell_type": "code",
   "execution_count": 30,
   "metadata": {},
   "outputs": [
    {
     "data": {
      "text/plain": [
       "Price    92\n",
       "dtype: int64"
      ]
     },
     "execution_count": 30,
     "metadata": {},
     "output_type": "execute_result"
    }
   ],
   "source": [
    "df[['Price']].idxmin() # Which df index has minimum price"
   ]
  },
  {
   "cell_type": "code",
   "execution_count": 31,
   "metadata": {},
   "outputs": [
    {
     "data": {
      "text/plain": [
       "Name                  Maruti Alto\n",
       "Transmission type          Manual\n",
       "Variant                      LXI \n",
       "Mileage                    119227\n",
       "Owned                   1st Owner\n",
       "Fuel type                  Petrol\n",
       "City                       Rohtak\n",
       "Price                      126399\n",
       "Year                         2009\n",
       "Manufacturer               Maruti\n",
       "Model                        Alto\n",
       "Name: 92, dtype: object"
      ]
     },
     "execution_count": 31,
     "metadata": {},
     "output_type": "execute_result"
    }
   ],
   "source": [
    "df.iloc[92] # This car has min price"
   ]
  },
  {
   "cell_type": "code",
   "execution_count": 32,
   "metadata": {},
   "outputs": [
    {
     "data": {
      "text/plain": [
       "Mileage    2059\n",
       "dtype: int64"
      ]
     },
     "execution_count": 32,
     "metadata": {},
     "output_type": "execute_result"
    }
   ],
   "source": [
    "df[['Mileage']].idxmin() # Which df index has minimum mileage"
   ]
  },
  {
   "cell_type": "code",
   "execution_count": 33,
   "metadata": {},
   "outputs": [
    {
     "data": {
      "text/plain": [
       "Name                        Ford Ecosport\n",
       "Transmission type                  Manual\n",
       "Variant              1.5 TITANIUM TI VCT \n",
       "Mileage                               350\n",
       "Owned                           1st Owner\n",
       "Fuel type                          Petrol\n",
       "City                            Bengaluru\n",
       "Price                             1045199\n",
       "Year                                 2021\n",
       "Manufacturer                         Ford\n",
       "Model                            Ecosport\n",
       "Name: 2059, dtype: object"
      ]
     },
     "execution_count": 33,
     "metadata": {},
     "output_type": "execute_result"
    }
   ],
   "source": [
    "df.iloc[2059] # This car has min mileage"
   ]
  },
  {
   "cell_type": "markdown",
   "metadata": {},
   "source": [
    "#### Pre-processing data"
   ]
  },
  {
   "cell_type": "code",
   "execution_count": 34,
   "metadata": {},
   "outputs": [
    {
     "data": {
      "text/plain": [
       "Name                  115\n",
       "Transmission type       2\n",
       "Variant               529\n",
       "Mileage              2539\n",
       "Owned                   5\n",
       "Fuel type               4\n",
       "City                   22\n",
       "Price                2167\n",
       "Year                   14\n",
       "Manufacturer           19\n",
       "Model                 100\n",
       "dtype: int64"
      ]
     },
     "execution_count": 34,
     "metadata": {},
     "output_type": "execute_result"
    }
   ],
   "source": [
    "df.nunique() # Now to simplify the data"
   ]
  },
  {
   "cell_type": "code",
   "execution_count": 35,
   "metadata": {},
   "outputs": [
    {
     "data": {
      "text/plain": [
       "Maruti        2880\n",
       "Hyundai       1122\n",
       "Ford           316\n",
       "Honda          303\n",
       "Toyota         135\n",
       "Renault        126\n",
       "Tata           109\n",
       "Volkswagen     107\n",
       "Mahindra        83\n",
       "MG              36\n",
       "KIA             27\n",
       "Skoda           26\n",
       "Datsun          18\n",
       "Audi            18\n",
       "Jeep            11\n",
       "BMW             10\n",
       "Nissan           8\n",
       "Ssangyong        3\n",
       "Mercedes         1\n",
       "Name: Manufacturer, dtype: int64"
      ]
     },
     "execution_count": 35,
     "metadata": {},
     "output_type": "execute_result"
    }
   ],
   "source": [
    "df['Manufacturer'].value_counts() # We have a lot of manufacturers"
   ]
  },
  {
   "cell_type": "markdown",
   "metadata": {},
   "source": [
    "Now I will simplify the engine size and convert it to a range, I will also convert various variants of engine to get a better description."
   ]
  },
  {
   "cell_type": "code",
   "execution_count": 36,
   "metadata": {},
   "outputs": [],
   "source": [
    "df.loc[df['Variant'].str.contains('LXI', case=False), 'Variant'] = 'Basic Petrol'\n",
    "df.loc[df['Variant'].str.contains('VXI', case=False), 'Variant'] = 'Middle Petrol'\n",
    "df.loc[df['Variant'].str.contains('ZXI', case=False), 'Variant'] = 'Top Petrol'\n",
    "\n",
    "df.loc[df['Variant'].str.contains('VDI', case=False), 'Variant'] = 'Basic Diesel'\n",
    "df.loc[df['Variant'].str.contains('VDI', case=False), 'Variant'] = 'Middle Diesel'\n",
    "df.loc[df['Variant'].str.contains('ZDI', case=False), 'Variant'] = 'Top Diesel'\n",
    "\n",
    "df.loc[df['Variant'].str.contains('LUXURY', case=False), 'Variant'] = 'Luxury'\n",
    "\n",
    "df.loc[df['Variant'].str.contains('1.0', case=False), 'Variant'] = '1.0-1.5 Liter'\n",
    "df.loc[df['Variant'].str.contains('1.1', case=False), 'Variant'] = '1.0-1.5 Liter'\n",
    "df.loc[df['Variant'].str.contains('1.2', case=False), 'Variant'] = '1.0-1.5 Liter'\n",
    "df.loc[df['Variant'].str.contains('1.3', case=False), 'Variant'] = '1.0-1.5 Liter'\n",
    "df.loc[df['Variant'].str.contains('1.4', case=False), 'Variant'] = '1.0-1.5 Liter'\n",
    "df.loc[df['Variant'].str.contains('1.5', case=False), 'Variant'] = '1.0-1.5 Liter'\n",
    "df.loc[df['Variant'].str.contains('1.6', case=False), 'Variant'] = '1.5-2.0 Liter'\n",
    "df.loc[df['Variant'].str.contains('1.7', case=False), 'Variant'] = '1.5-2.0 Liter'\n",
    "df.loc[df['Variant'].str.contains('1.8', case=False), 'Variant'] = '1.5-2.0 Liter'\n",
    "df.loc[df['Variant'].str.contains('1.9', case=False), 'Variant'] = '1.5-2.0 Liter'\n",
    "df.loc[df['Variant'].str.contains('2.0', case=False), 'Variant'] = '1.5-2.0 Liter'\n",
    "df.loc[df['Variant'].str.contains('2.1', case=False), 'Variant'] = '2.0+ Liter'\n",
    "df.loc[df['Variant'].str.contains('2.2', case=False), 'Variant'] = '2.0+ Liter'\n",
    "df.loc[df['Variant'].str.contains('2.3', case=False), 'Variant'] = '2.0+ Liter'\n",
    "df.loc[df['Variant'].str.contains('2.4', case=False), 'Variant'] = '2.0+ Liter'\n",
    "df.loc[df['Variant'].str.contains('2.5', case=False), 'Variant'] = '2.0+ Liter'\n",
    "df.loc[df['Variant'].str.contains('2.6', case=False), 'Variant'] = '2.0+ Liter'\n",
    "df.loc[df['Variant'].str.contains('2.7', case=False), 'Variant'] = '2.0+ Liter'\n",
    "df.loc[df['Variant'].str.contains('2.8', case=False), 'Variant'] = '2.0+ Liter'\n",
    "df.loc[df['Variant'].str.contains('2.9', case=False), 'Variant'] = '2.0+ Liter'\n",
    "df.loc[df['Variant'].str.contains('3.0', case=False), 'Variant'] = '2.0+ Liter'\n",
    "df.loc[df['Variant'].str.contains('3.1', case=False), 'Variant'] = '2.0+ Liter'\n",
    "df.loc[df['Variant'].str.contains('3.2', case=False), 'Variant'] = '2.0+ Liter'\n",
    "df.loc[df['Variant'].str.contains('3.3', case=False), 'Variant'] = '2.0+ Liter'\n",
    "df.loc[df['Variant'].str.contains('3.4', case=False), 'Variant'] = '2.0+ Liter'\n",
    "df.loc[df['Variant'].str.contains('3.5', case=False), 'Variant'] = '2.0+ Liter'\n",
    "\n",
    "df.loc[df['Variant'].str.contains('5 STR WITH AC PLUSHTR', case=False), 'Variant'] = '1.0-1.5 Liter'\n",
    "df.loc[df['Variant'].str.contains('RXL', case=False), 'Variant'] = '1.0-1.5 Liter'\n",
    "df.loc[df['Variant'].str.contains('V MT PETROL', case=False), 'Variant'] = '1.0-1.5 Liter'\n",
    "df.loc[df['Variant'].str.contains('ERA PLUS', case=False), 'Variant'] = '1.0-1.5 Liter'"
   ]
  },
  {
   "cell_type": "code",
   "execution_count": 37,
   "metadata": {},
   "outputs": [],
   "source": [
    "df.loc[df.groupby('Variant').Variant.transform('count').lt(20), 'Variant'] = 'Other' \n",
    "\n",
    "# Combining variants as Other which have less than 20 value counts to simplify the data"
   ]
  },
  {
   "cell_type": "code",
   "execution_count": 38,
   "metadata": {},
   "outputs": [
    {
     "data": {
      "text/plain": [
       "1.0-1.5 Liter    2189\n",
       "Middle Petrol     981\n",
       "Basic Diesel      495\n",
       "Other             483\n",
       "Basic Petrol      439\n",
       "1.5-2.0 Liter     268\n",
       "Top Diesel        227\n",
       "Top Petrol        162\n",
       "2.0+ Liter         95\n",
       "Name: Variant, dtype: int64"
      ]
     },
     "execution_count": 38,
     "metadata": {},
     "output_type": "execute_result"
    }
   ],
   "source": [
    "df['Variant'].value_counts()"
   ]
  },
  {
   "cell_type": "code",
   "execution_count": 39,
   "metadata": {},
   "outputs": [
    {
     "data": {
      "text/plain": [
       "Alto      648\n",
       "Swift     570\n",
       "Baleno    274\n",
       "Vitara    271\n",
       "Grand     236\n",
       "         ... \n",
       "Jetta       2\n",
       "KAROQ       2\n",
       "CRV         1\n",
       "Zen         1\n",
       "Benz        1\n",
       "Name: Model, Length: 100, dtype: int64"
      ]
     },
     "execution_count": 39,
     "metadata": {},
     "output_type": "execute_result"
    }
   ],
   "source": [
    "df['Model'].value_counts() # We have 100 different car models"
   ]
  },
  {
   "cell_type": "code",
   "execution_count": 40,
   "metadata": {},
   "outputs": [
    {
     "data": {
      "text/plain": [
       " Maruti Swift             425\n",
       " Maruti Baleno            274\n",
       " Maruti Vitara Brezza     271\n",
       " Maruti Alto 800          259\n",
       " Hyundai Grand i10        236\n",
       "                         ... \n",
       " Skoda KAROQ                2\n",
       " Mercedes Benz E Class      1\n",
       " Nissan Micra Active        1\n",
       " Maruti Zen Estilo          1\n",
       " Honda CRV                  1\n",
       "Name: Name, Length: 115, dtype: int64"
      ]
     },
     "execution_count": 40,
     "metadata": {},
     "output_type": "execute_result"
    }
   ],
   "source": [
    "df['Name'].value_counts() # We have 115 different names"
   ]
  },
  {
   "cell_type": "code",
   "execution_count": 41,
   "metadata": {},
   "outputs": [],
   "source": [
    "df.drop(['Name'], axis = 1, inplace = True) # Dropping the name columns as I have already separated it into 'Name' and 'Model'"
   ]
  },
  {
   "cell_type": "markdown",
   "metadata": {},
   "source": [
    "### EDA"
   ]
  },
  {
   "cell_type": "code",
   "execution_count": 42,
   "metadata": {},
   "outputs": [
    {
     "data": {
      "image/png": "[encoded data removed]",
      "text/plain": [
       "<Figure size 1440x576 with 2 Axes>"
      ]
     },
     "metadata": {
      "needs_background": "light"
     },
     "output_type": "display_data"
    }
   ],
   "source": [
    "plt.figure(figsize=(20,8))\n",
    "\n",
    "plt.subplot(1,2,1)\n",
    "plt.title('Engine Type Histogram')\n",
    "plt.xticks(rotation=45)\n",
    "sns.countplot(df.Variant, palette=(\"Blues_d\"))\n",
    "plt.ticklabel_format(style='plain', axis='y')\n",
    "plt.subplot(1,2,2)\n",
    "plt.title('Engine Type vs Price')\n",
    "sns.boxplot(x=df.Variant, y=df.Price, palette=(\"PuBuGn\"))\n",
    "\n",
    "plt.xticks(rotation=45)\n",
    "plt.ticklabel_format(style='plain', axis='y')\n",
    "plt.show()"
   ]
  },
  {
   "cell_type": "markdown",
   "metadata": {},
   "source": [
    "Count plot and price plot according to the cars engine variant"
   ]
  },
  {
   "cell_type": "code",
   "execution_count": 43,
   "metadata": {},
   "outputs": [
    {
     "data": {
      "image/png": "[encoded data removed]",
      "text/plain": [
       "<Figure size 432x288 with 1 Axes>"
      ]
     },
     "metadata": {
      "needs_background": "light"
     },
     "output_type": "display_data"
    }
   ],
   "source": [
    "df_fuel = pd.DataFrame(df.groupby(['Fuel type'])['Price'].mean().sort_values(ascending = False))\n",
    "df_fuel.plot.bar()\n",
    "plt.ticklabel_format(style='plain', axis='y')\n",
    "plt.title('Fuel Type vs Average Price')\n",
    "plt.show()"
   ]
  },
  {
   "cell_type": "markdown",
   "metadata": {},
   "source": [
    "Average price of car with respect to the fuel type. Diesel is most evpensive, then petrol, least expensive is Petrol + LPG"
   ]
  },
  {
   "cell_type": "code",
   "execution_count": 44,
   "metadata": {},
   "outputs": [
    {
     "data": {
      "text/html": [
       "<div>\n",
       "<style scoped>\n",
       "    .dataframe tbody tr th:only-of-type {\n",
       "        vertical-align: middle;\n",
       "    }\n",
       "\n",
       "    .dataframe tbody tr th {\n",
       "        vertical-align: top;\n",
       "    }\n",
       "\n",
       "    .dataframe thead th {\n",
       "        text-align: right;\n",
       "    }\n",
       "</style>\n",
       "<table border=\"1\" class=\"dataframe\">\n",
       "  <thead>\n",
       "    <tr style=\"text-align: right;\">\n",
       "      <th></th>\n",
       "      <th>Transmission type</th>\n",
       "      <th>Variant</th>\n",
       "      <th>Mileage</th>\n",
       "      <th>Owned</th>\n",
       "      <th>Fuel type</th>\n",
       "      <th>City</th>\n",
       "      <th>Price</th>\n",
       "      <th>Year</th>\n",
       "      <th>Manufacturer</th>\n",
       "      <th>Model</th>\n",
       "    </tr>\n",
       "  </thead>\n",
       "  <tbody>\n",
       "    <tr>\n",
       "      <th>0</th>\n",
       "      <td>Manual</td>\n",
       "      <td>Other</td>\n",
       "      <td>19158</td>\n",
       "      <td>1st Owner</td>\n",
       "      <td>Petrol</td>\n",
       "      <td>Rohtak</td>\n",
       "      <td>924099</td>\n",
       "      <td>2020</td>\n",
       "      <td>Hyundai</td>\n",
       "      <td>Verna</td>\n",
       "    </tr>\n",
       "    <tr>\n",
       "      <th>1</th>\n",
       "      <td>Manual</td>\n",
       "      <td>1.0-1.5 Liter</td>\n",
       "      <td>44585</td>\n",
       "      <td>2nd Owner</td>\n",
       "      <td>Diesel</td>\n",
       "      <td>Rohtak</td>\n",
       "      <td>546099</td>\n",
       "      <td>2014</td>\n",
       "      <td>Hyundai</td>\n",
       "      <td>Verna</td>\n",
       "    </tr>\n",
       "    <tr>\n",
       "      <th>2</th>\n",
       "      <td>Manual</td>\n",
       "      <td>1.0-1.5 Liter</td>\n",
       "      <td>9483</td>\n",
       "      <td>2nd Owner</td>\n",
       "      <td>Petrol</td>\n",
       "      <td>Rohtak</td>\n",
       "      <td>615199</td>\n",
       "      <td>2018</td>\n",
       "      <td>Maruti</td>\n",
       "      <td>Baleno</td>\n",
       "    </tr>\n",
       "    <tr>\n",
       "      <th>3</th>\n",
       "      <td>Manual</td>\n",
       "      <td>Basic Diesel</td>\n",
       "      <td>94362</td>\n",
       "      <td>1st Owner</td>\n",
       "      <td>Diesel</td>\n",
       "      <td>Rohtak</td>\n",
       "      <td>584199</td>\n",
       "      <td>2016</td>\n",
       "      <td>Maruti</td>\n",
       "      <td>Ertiga</td>\n",
       "    </tr>\n",
       "    <tr>\n",
       "      <th>4</th>\n",
       "      <td>Manual</td>\n",
       "      <td>1.5-2.0 Liter</td>\n",
       "      <td>17227</td>\n",
       "      <td>2nd Owner</td>\n",
       "      <td>Petrol</td>\n",
       "      <td>Rohtak</td>\n",
       "      <td>812299</td>\n",
       "      <td>2017</td>\n",
       "      <td>Hyundai</td>\n",
       "      <td>Creta</td>\n",
       "    </tr>\n",
       "  </tbody>\n",
       "</table>\n",
       "</div>"
      ],
      "text/plain": [
       "  Transmission type        Variant  Mileage      Owned Fuel type    City  \\\n",
       "0            Manual          Other    19158  1st Owner    Petrol  Rohtak   \n",
       "1            Manual  1.0-1.5 Liter    44585  2nd Owner    Diesel  Rohtak   \n",
       "2            Manual  1.0-1.5 Liter     9483  2nd Owner    Petrol  Rohtak   \n",
       "3            Manual   Basic Diesel    94362  1st Owner    Diesel  Rohtak   \n",
       "4            Manual  1.5-2.0 Liter    17227  2nd Owner    Petrol  Rohtak   \n",
       "\n",
       "    Price  Year Manufacturer   Model  \n",
       "0  924099  2020      Hyundai   Verna  \n",
       "1  546099  2014      Hyundai   Verna  \n",
       "2  615199  2018       Maruti  Baleno  \n",
       "3  584199  2016       Maruti  Ertiga  \n",
       "4  812299  2017      Hyundai   Creta  "
      ]
     },
     "execution_count": 44,
     "metadata": {},
     "output_type": "execute_result"
    }
   ],
   "source": [
    "df.head()"
   ]
  },
  {
   "cell_type": "code",
   "execution_count": 45,
   "metadata": {},
   "outputs": [
    {
     "data": {
      "image/png": "[encoded data removed]",
      "text/plain": [
       "<Figure size 432x288 with 1 Axes>"
      ]
     },
     "metadata": {
      "needs_background": "light"
     },
     "output_type": "display_data"
    }
   ],
   "source": [
    "df_trans = pd.DataFrame(df.groupby(['Transmission type'])['Price'].mean().sort_values(ascending = False))\n",
    "df_trans.plot.bar()\n",
    "plt.ticklabel_format(style='plain', axis='y')\n",
    "plt.title('Transmission Type vs Average Price')\n",
    "plt.show()"
   ]
  },
  {
   "cell_type": "markdown",
   "metadata": {},
   "source": [
    "As expected cars which have automatic transmission are on average priced above Rs. 80,000 and cars which have manual transmission are on average price around Rs 50,000"
   ]
  },
  {
   "cell_type": "code",
   "execution_count": 46,
   "metadata": {},
   "outputs": [
    {
     "data": {
      "image/png": "[encoded data removed]",
      "text/plain": [
       "<Figure size 432x288 with 1 Axes>"
      ]
     },
     "metadata": {
      "needs_background": "light"
     },
     "output_type": "display_data"
    }
   ],
   "source": [
    "df_ownd = pd.DataFrame(df.groupby(['Owned'])['Price'].mean().sort_values(ascending = False))\n",
    "df_ownd.plot.bar()\n",
    "plt.ticklabel_format(style='plain', axis='y')\n",
    "plt.title('Number of previous owners vs Average Price')\n",
    "plt.show()"
   ]
  },
  {
   "cell_type": "markdown",
   "metadata": {},
   "source": [
    "We can observe that as number of owners go up, the average price of car decreases, this is what one would expect."
   ]
  },
  {
   "cell_type": "code",
   "execution_count": 47,
   "metadata": {},
   "outputs": [
    {
     "data": {
      "image/png": "[encoded data removed]",
      "text/plain": [
       "<Figure size 432x288 with 1 Axes>"
      ]
     },
     "metadata": {
      "needs_background": "light"
     },
     "output_type": "display_data"
    }
   ],
   "source": [
    "df_vrnt = pd.DataFrame(df.groupby(['Variant'])['Price'].mean().sort_values(ascending = False))\n",
    "df_vrnt.plot.bar()\n",
    "\n",
    "plt.title('Engine Type vs Average Price')\n",
    "plt.ticklabel_format(style='plain', axis='y')\n",
    "plt.show()"
   ]
  },
  {
   "cell_type": "markdown",
   "metadata": {},
   "source": [
    "We can see that 2 liter engine is the most common engine size."
   ]
  },
  {
   "cell_type": "markdown",
   "metadata": {},
   "source": [
    "#### Multi variate analysis"
   ]
  },
  {
   "cell_type": "code",
   "execution_count": 48,
   "metadata": {},
   "outputs": [
    {
     "data": {
      "text/plain": [
       "<Figure size 1080x1080 with 0 Axes>"
      ]
     },
     "metadata": {},
     "output_type": "display_data"
    },
    {
     "data": {
      "image/png": "[encoded data removed]",
      "text/plain": [
       "<Figure size 540x540 with 12 Axes>"
      ]
     },
     "metadata": {
      "needs_background": "light"
     },
     "output_type": "display_data"
    }
   ],
   "source": [
    "plt.figure(figsize=(15,15))\n",
    "sns.pairplot(df)\n",
    "plt.ticklabel_format(style='plain', axis='y')\n",
    "plt.show()"
   ]
  },
  {
   "cell_type": "code",
   "execution_count": 49,
   "metadata": {},
   "outputs": [
    {
     "data": {
      "image/png": "[encoded data removed]",
      "text/plain": [
       "<Figure size 864x864 with 2 Axes>"
      ]
     },
     "metadata": {
      "needs_background": "light"
     },
     "output_type": "display_data"
    }
   ],
   "source": [
    "plt.figure(figsize=(12,12)) # Co-relation heat map\n",
    "sns.heatmap(df.corr(),linewidths=.1,cmap=\"YlGnBu\", annot=True)\n",
    "plt.yticks(rotation=0); # Checkign co-relation"
   ]
  },
  {
   "cell_type": "code",
   "execution_count": 50,
   "metadata": {},
   "outputs": [],
   "source": [
    "df.loc[df.groupby('Model').Variant.transform('count').lt(20), 'Variant'] = 'Other'  \n",
    "# If less that 20 count, Model is renamed to 'Other'"
   ]
  },
  {
   "cell_type": "code",
   "execution_count": 51,
   "metadata": {},
   "outputs": [],
   "source": [
    "# Defining the map function\n",
    "def dummies(x,df):\n",
    "    temp = pd.get_dummies(df[x], drop_first = True)\n",
    "    df = pd.concat([df, temp], axis = 1)\n",
    "    df.drop([x], axis = 1, inplace = True)\n",
    "    return df\n",
    "# Applying the function to the df\n",
    "\n",
    "df = dummies('Transmission type',df)\n",
    "df = dummies('Variant',df)\n",
    "df = dummies('Owned',df)\n",
    "df = dummies('Fuel type',df)\n",
    "df = dummies('City',df)\n",
    "df = dummies('Manufacturer',df)\n",
    "df = dummies('Model',df)"
   ]
  },
  {
   "cell_type": "code",
   "execution_count": 52,
   "metadata": {},
   "outputs": [
    {
     "data": {
      "text/html": [
       "<div>\n",
       "<style scoped>\n",
       "    .dataframe tbody tr th:only-of-type {\n",
       "        vertical-align: middle;\n",
       "    }\n",
       "\n",
       "    .dataframe tbody tr th {\n",
       "        vertical-align: top;\n",
       "    }\n",
       "\n",
       "    .dataframe thead th {\n",
       "        text-align: right;\n",
       "    }\n",
       "</style>\n",
       "<table border=\"1\" class=\"dataframe\">\n",
       "  <thead>\n",
       "    <tr style=\"text-align: right;\">\n",
       "      <th></th>\n",
       "      <th>Mileage</th>\n",
       "      <th>Price</th>\n",
       "      <th>Year</th>\n",
       "      <th>Manual</th>\n",
       "      <th>1.5-2.0 Liter</th>\n",
       "      <th>2.0+ Liter</th>\n",
       "      <th>Basic Diesel</th>\n",
       "      <th>Basic Petrol</th>\n",
       "      <th>Middle Petrol</th>\n",
       "      <th>Other</th>\n",
       "      <th>Top Diesel</th>\n",
       "      <th>Top Petrol</th>\n",
       "      <th>2nd Owner</th>\n",
       "      <th>3rd Owner</th>\n",
       "      <th>4th Owner</th>\n",
       "      <th>5th Owner</th>\n",
       "      <th>Petrol</th>\n",
       "      <th>Petrol + CNG</th>\n",
       "      <th>Petrol + LPG</th>\n",
       "      <th>Bengaluru</th>\n",
       "      <th>Bhopal</th>\n",
       "      <th>Chandigarh</th>\n",
       "      <th>Chennai</th>\n",
       "      <th>Delhi</th>\n",
       "      <th>Hyderabad</th>\n",
       "      <th>Jaipur</th>\n",
       "      <th>Kochi</th>\n",
       "      <th>Kolkata</th>\n",
       "      <th>Lucknow</th>\n",
       "      <th>Ludhiana</th>\n",
       "      <th>Meerut</th>\n",
       "      <th>Mumbai</th>\n",
       "      <th>Mysore</th>\n",
       "      <th>Nasik</th>\n",
       "      <th>Panipat</th>\n",
       "      <th>Pune</th>\n",
       "      <th>Rajkot</th>\n",
       "      <th>Rohtak</th>\n",
       "      <th>Surat</th>\n",
       "      <th>Vadodara</th>\n",
       "      <th>BMW</th>\n",
       "      <th>Datsun</th>\n",
       "      <th>Ford</th>\n",
       "      <th>Honda</th>\n",
       "      <th>Hyundai</th>\n",
       "      <th>Jeep</th>\n",
       "      <th>KIA</th>\n",
       "      <th>MG</th>\n",
       "      <th>Mahindra</th>\n",
       "      <th>Maruti</th>\n",
       "      <th>Mercedes</th>\n",
       "      <th>Nissan</th>\n",
       "      <th>Renault</th>\n",
       "      <th>Skoda</th>\n",
       "      <th>Ssangyong</th>\n",
       "      <th>Tata</th>\n",
       "      <th>Toyota</th>\n",
       "      <th>Volkswagen</th>\n",
       "      <th>5</th>\n",
       "      <th>A</th>\n",
       "      <th>A3</th>\n",
       "      <th>A4</th>\n",
       "      <th>ALTROZ</th>\n",
       "      <th>AURA</th>\n",
       "      <th>Accord</th>\n",
       "      <th>Alto</th>\n",
       "      <th>Amaze</th>\n",
       "      <th>Ameo</th>\n",
       "      <th>BR-V</th>\n",
       "      <th>Baleno</th>\n",
       "      <th>Benz</th>\n",
       "      <th>Bolero</th>\n",
       "      <th>Brio</th>\n",
       "      <th>CRV</th>\n",
       "      <th>Camry</th>\n",
       "      <th>Captur</th>\n",
       "      <th>Celerio</th>\n",
       "      <th>Ciaz</th>\n",
       "      <th>City</th>\n",
       "      <th>Civic</th>\n",
       "      <th>Compass</th>\n",
       "      <th>Corolla</th>\n",
       "      <th>Creta</th>\n",
       "      <th>Duster</th>\n",
       "      <th>Dzire</th>\n",
       "      <th>Ecosport</th>\n",
       "      <th>Eeco</th>\n",
       "      <th>Elite</th>\n",
       "      <th>Eon</th>\n",
       "      <th>Ertiga</th>\n",
       "      <th>Etios</th>\n",
       "      <th>FREESTYLE</th>\n",
       "      <th>Fiesta</th>\n",
       "      <th>Figo</th>\n",
       "      <th>Fortuner</th>\n",
       "      <th>GRAND</th>\n",
       "      <th>Glanza</th>\n",
       "      <th>Go</th>\n",
       "      <th>Grand</th>\n",
       "      <th>HECTOR</th>\n",
       "      <th>Harrier</th>\n",
       "      <th>Hexa</th>\n",
       "      <th>IGNIS</th>\n",
       "      <th>Innova</th>\n",
       "      <th>Jazz</th>\n",
       "      <th>Jetta</th>\n",
       "      <th>KAROQ</th>\n",
       "      <th>KUV</th>\n",
       "      <th>Kuv100</th>\n",
       "      <th>Kwid</th>\n",
       "      <th>Lodgy</th>\n",
       "      <th>MARAZZO</th>\n",
       "      <th>Micra</th>\n",
       "      <th>NEW</th>\n",
       "      <th>NEXON</th>\n",
       "      <th>Nano</th>\n",
       "      <th>New</th>\n",
       "      <th>OMNI</th>\n",
       "      <th>Octavia</th>\n",
       "      <th>Polo</th>\n",
       "      <th>Prius</th>\n",
       "      <th>Q3</th>\n",
       "      <th>Rapid</th>\n",
       "      <th>Redi</th>\n",
       "      <th>Rexton</th>\n",
       "      <th>Ritz</th>\n",
       "      <th>S</th>\n",
       "      <th>SELTOS</th>\n",
       "      <th>SONET</th>\n",
       "      <th>SX4</th>\n",
       "      <th>Santro</th>\n",
       "      <th>Scorpio</th>\n",
       "      <th>Sunny</th>\n",
       "      <th>Superb</th>\n",
       "      <th>Swift</th>\n",
       "      <th>TIGOR</th>\n",
       "      <th>TRIBER</th>\n",
       "      <th>TUV300</th>\n",
       "      <th>Thar</th>\n",
       "      <th>Tiago</th>\n",
       "      <th>Tucson</th>\n",
       "      <th>VENUE</th>\n",
       "      <th>Vento</th>\n",
       "      <th>Verna</th>\n",
       "      <th>Vitara</th>\n",
       "      <th>WR-V</th>\n",
       "      <th>Wagon</th>\n",
       "      <th>X1</th>\n",
       "      <th>XL6</th>\n",
       "      <th>XUV</th>\n",
       "      <th>XUV500</th>\n",
       "      <th>Xcent</th>\n",
       "      <th>YARIS</th>\n",
       "      <th>Zen</th>\n",
       "      <th>Zest</th>\n",
       "      <th>i10</th>\n",
       "      <th>i20</th>\n",
       "    </tr>\n",
       "  </thead>\n",
       "  <tbody>\n",
       "    <tr>\n",
       "      <th>0</th>\n",
       "      <td>19158</td>\n",
       "      <td>924099</td>\n",
       "      <td>2020</td>\n",
       "      <td>1</td>\n",
       "      <td>0</td>\n",
       "      <td>0</td>\n",
       "      <td>0</td>\n",
       "      <td>0</td>\n",
       "      <td>0</td>\n",
       "      <td>1</td>\n",
       "      <td>0</td>\n",
       "      <td>0</td>\n",
       "      <td>0</td>\n",
       "      <td>0</td>\n",
       "      <td>0</td>\n",
       "      <td>0</td>\n",
       "      <td>1</td>\n",
       "      <td>0</td>\n",
       "      <td>0</td>\n",
       "      <td>0</td>\n",
       "      <td>0</td>\n",
       "      <td>0</td>\n",
       "      <td>0</td>\n",
       "      <td>0</td>\n",
       "      <td>0</td>\n",
       "      <td>0</td>\n",
       "      <td>0</td>\n",
       "      <td>0</td>\n",
       "      <td>0</td>\n",
       "      <td>0</td>\n",
       "      <td>0</td>\n",
       "      <td>0</td>\n",
       "      <td>0</td>\n",
       "      <td>0</td>\n",
       "      <td>0</td>\n",
       "      <td>0</td>\n",
       "      <td>0</td>\n",
       "      <td>1</td>\n",
       "      <td>0</td>\n",
       "      <td>0</td>\n",
       "      <td>0</td>\n",
       "      <td>0</td>\n",
       "      <td>0</td>\n",
       "      <td>0</td>\n",
       "      <td>1</td>\n",
       "      <td>0</td>\n",
       "      <td>0</td>\n",
       "      <td>0</td>\n",
       "      <td>0</td>\n",
       "      <td>0</td>\n",
       "      <td>0</td>\n",
       "      <td>0</td>\n",
       "      <td>0</td>\n",
       "      <td>0</td>\n",
       "      <td>0</td>\n",
       "      <td>0</td>\n",
       "      <td>0</td>\n",
       "      <td>0</td>\n",
       "      <td>0</td>\n",
       "      <td>0</td>\n",
       "      <td>0</td>\n",
       "      <td>0</td>\n",
       "      <td>0</td>\n",
       "      <td>0</td>\n",
       "      <td>0</td>\n",
       "      <td>0</td>\n",
       "      <td>0</td>\n",
       "      <td>0</td>\n",
       "      <td>0</td>\n",
       "      <td>0</td>\n",
       "      <td>0</td>\n",
       "      <td>0</td>\n",
       "      <td>0</td>\n",
       "      <td>0</td>\n",
       "      <td>0</td>\n",
       "      <td>0</td>\n",
       "      <td>0</td>\n",
       "      <td>0</td>\n",
       "      <td>0</td>\n",
       "      <td>0</td>\n",
       "      <td>0</td>\n",
       "      <td>0</td>\n",
       "      <td>0</td>\n",
       "      <td>0</td>\n",
       "      <td>0</td>\n",
       "      <td>0</td>\n",
       "      <td>0</td>\n",
       "      <td>0</td>\n",
       "      <td>0</td>\n",
       "      <td>0</td>\n",
       "      <td>0</td>\n",
       "      <td>0</td>\n",
       "      <td>0</td>\n",
       "      <td>0</td>\n",
       "      <td>0</td>\n",
       "      <td>0</td>\n",
       "      <td>0</td>\n",
       "      <td>0</td>\n",
       "      <td>0</td>\n",
       "      <td>0</td>\n",
       "      <td>0</td>\n",
       "      <td>0</td>\n",
       "      <td>0</td>\n",
       "      <td>0</td>\n",
       "      <td>0</td>\n",
       "      <td>0</td>\n",
       "      <td>0</td>\n",
       "      <td>0</td>\n",
       "      <td>0</td>\n",
       "      <td>0</td>\n",
       "      <td>0</td>\n",
       "      <td>0</td>\n",
       "      <td>0</td>\n",
       "      <td>0</td>\n",
       "      <td>0</td>\n",
       "      <td>0</td>\n",
       "      <td>0</td>\n",
       "      <td>0</td>\n",
       "      <td>0</td>\n",
       "      <td>0</td>\n",
       "      <td>0</td>\n",
       "      <td>0</td>\n",
       "      <td>0</td>\n",
       "      <td>0</td>\n",
       "      <td>0</td>\n",
       "      <td>0</td>\n",
       "      <td>0</td>\n",
       "      <td>0</td>\n",
       "      <td>0</td>\n",
       "      <td>0</td>\n",
       "      <td>0</td>\n",
       "      <td>0</td>\n",
       "      <td>0</td>\n",
       "      <td>0</td>\n",
       "      <td>0</td>\n",
       "      <td>0</td>\n",
       "      <td>0</td>\n",
       "      <td>0</td>\n",
       "      <td>0</td>\n",
       "      <td>0</td>\n",
       "      <td>0</td>\n",
       "      <td>0</td>\n",
       "      <td>0</td>\n",
       "      <td>1</td>\n",
       "      <td>0</td>\n",
       "      <td>0</td>\n",
       "      <td>0</td>\n",
       "      <td>0</td>\n",
       "      <td>0</td>\n",
       "      <td>0</td>\n",
       "      <td>0</td>\n",
       "      <td>0</td>\n",
       "      <td>0</td>\n",
       "      <td>0</td>\n",
       "      <td>0</td>\n",
       "      <td>0</td>\n",
       "      <td>0</td>\n",
       "    </tr>\n",
       "    <tr>\n",
       "      <th>1</th>\n",
       "      <td>44585</td>\n",
       "      <td>546099</td>\n",
       "      <td>2014</td>\n",
       "      <td>1</td>\n",
       "      <td>0</td>\n",
       "      <td>0</td>\n",
       "      <td>0</td>\n",
       "      <td>0</td>\n",
       "      <td>0</td>\n",
       "      <td>0</td>\n",
       "      <td>0</td>\n",
       "      <td>0</td>\n",
       "      <td>1</td>\n",
       "      <td>0</td>\n",
       "      <td>0</td>\n",
       "      <td>0</td>\n",
       "      <td>0</td>\n",
       "      <td>0</td>\n",
       "      <td>0</td>\n",
       "      <td>0</td>\n",
       "      <td>0</td>\n",
       "      <td>0</td>\n",
       "      <td>0</td>\n",
       "      <td>0</td>\n",
       "      <td>0</td>\n",
       "      <td>0</td>\n",
       "      <td>0</td>\n",
       "      <td>0</td>\n",
       "      <td>0</td>\n",
       "      <td>0</td>\n",
       "      <td>0</td>\n",
       "      <td>0</td>\n",
       "      <td>0</td>\n",
       "      <td>0</td>\n",
       "      <td>0</td>\n",
       "      <td>0</td>\n",
       "      <td>0</td>\n",
       "      <td>1</td>\n",
       "      <td>0</td>\n",
       "      <td>0</td>\n",
       "      <td>0</td>\n",
       "      <td>0</td>\n",
       "      <td>0</td>\n",
       "      <td>0</td>\n",
       "      <td>1</td>\n",
       "      <td>0</td>\n",
       "      <td>0</td>\n",
       "      <td>0</td>\n",
       "      <td>0</td>\n",
       "      <td>0</td>\n",
       "      <td>0</td>\n",
       "      <td>0</td>\n",
       "      <td>0</td>\n",
       "      <td>0</td>\n",
       "      <td>0</td>\n",
       "      <td>0</td>\n",
       "      <td>0</td>\n",
       "      <td>0</td>\n",
       "      <td>0</td>\n",
       "      <td>0</td>\n",
       "      <td>0</td>\n",
       "      <td>0</td>\n",
       "      <td>0</td>\n",
       "      <td>0</td>\n",
       "      <td>0</td>\n",
       "      <td>0</td>\n",
       "      <td>0</td>\n",
       "      <td>0</td>\n",
       "      <td>0</td>\n",
       "      <td>0</td>\n",
       "      <td>0</td>\n",
       "      <td>0</td>\n",
       "      <td>0</td>\n",
       "      <td>0</td>\n",
       "      <td>0</td>\n",
       "      <td>0</td>\n",
       "      <td>0</td>\n",
       "      <td>0</td>\n",
       "      <td>0</td>\n",
       "      <td>0</td>\n",
       "      <td>0</td>\n",
       "      <td>0</td>\n",
       "      <td>0</td>\n",
       "      <td>0</td>\n",
       "      <td>0</td>\n",
       "      <td>0</td>\n",
       "      <td>0</td>\n",
       "      <td>0</td>\n",
       "      <td>0</td>\n",
       "      <td>0</td>\n",
       "      <td>0</td>\n",
       "      <td>0</td>\n",
       "      <td>0</td>\n",
       "      <td>0</td>\n",
       "      <td>0</td>\n",
       "      <td>0</td>\n",
       "      <td>0</td>\n",
       "      <td>0</td>\n",
       "      <td>0</td>\n",
       "      <td>0</td>\n",
       "      <td>0</td>\n",
       "      <td>0</td>\n",
       "      <td>0</td>\n",
       "      <td>0</td>\n",
       "      <td>0</td>\n",
       "      <td>0</td>\n",
       "      <td>0</td>\n",
       "      <td>0</td>\n",
       "      <td>0</td>\n",
       "      <td>0</td>\n",
       "      <td>0</td>\n",
       "      <td>0</td>\n",
       "      <td>0</td>\n",
       "      <td>0</td>\n",
       "      <td>0</td>\n",
       "      <td>0</td>\n",
       "      <td>0</td>\n",
       "      <td>0</td>\n",
       "      <td>0</td>\n",
       "      <td>0</td>\n",
       "      <td>0</td>\n",
       "      <td>0</td>\n",
       "      <td>0</td>\n",
       "      <td>0</td>\n",
       "      <td>0</td>\n",
       "      <td>0</td>\n",
       "      <td>0</td>\n",
       "      <td>0</td>\n",
       "      <td>0</td>\n",
       "      <td>0</td>\n",
       "      <td>0</td>\n",
       "      <td>0</td>\n",
       "      <td>0</td>\n",
       "      <td>0</td>\n",
       "      <td>0</td>\n",
       "      <td>0</td>\n",
       "      <td>0</td>\n",
       "      <td>0</td>\n",
       "      <td>0</td>\n",
       "      <td>0</td>\n",
       "      <td>0</td>\n",
       "      <td>0</td>\n",
       "      <td>0</td>\n",
       "      <td>1</td>\n",
       "      <td>0</td>\n",
       "      <td>0</td>\n",
       "      <td>0</td>\n",
       "      <td>0</td>\n",
       "      <td>0</td>\n",
       "      <td>0</td>\n",
       "      <td>0</td>\n",
       "      <td>0</td>\n",
       "      <td>0</td>\n",
       "      <td>0</td>\n",
       "      <td>0</td>\n",
       "      <td>0</td>\n",
       "      <td>0</td>\n",
       "    </tr>\n",
       "    <tr>\n",
       "      <th>2</th>\n",
       "      <td>9483</td>\n",
       "      <td>615199</td>\n",
       "      <td>2018</td>\n",
       "      <td>1</td>\n",
       "      <td>0</td>\n",
       "      <td>0</td>\n",
       "      <td>0</td>\n",
       "      <td>0</td>\n",
       "      <td>0</td>\n",
       "      <td>0</td>\n",
       "      <td>0</td>\n",
       "      <td>0</td>\n",
       "      <td>1</td>\n",
       "      <td>0</td>\n",
       "      <td>0</td>\n",
       "      <td>0</td>\n",
       "      <td>1</td>\n",
       "      <td>0</td>\n",
       "      <td>0</td>\n",
       "      <td>0</td>\n",
       "      <td>0</td>\n",
       "      <td>0</td>\n",
       "      <td>0</td>\n",
       "      <td>0</td>\n",
       "      <td>0</td>\n",
       "      <td>0</td>\n",
       "      <td>0</td>\n",
       "      <td>0</td>\n",
       "      <td>0</td>\n",
       "      <td>0</td>\n",
       "      <td>0</td>\n",
       "      <td>0</td>\n",
       "      <td>0</td>\n",
       "      <td>0</td>\n",
       "      <td>0</td>\n",
       "      <td>0</td>\n",
       "      <td>0</td>\n",
       "      <td>1</td>\n",
       "      <td>0</td>\n",
       "      <td>0</td>\n",
       "      <td>0</td>\n",
       "      <td>0</td>\n",
       "      <td>0</td>\n",
       "      <td>0</td>\n",
       "      <td>0</td>\n",
       "      <td>0</td>\n",
       "      <td>0</td>\n",
       "      <td>0</td>\n",
       "      <td>0</td>\n",
       "      <td>1</td>\n",
       "      <td>0</td>\n",
       "      <td>0</td>\n",
       "      <td>0</td>\n",
       "      <td>0</td>\n",
       "      <td>0</td>\n",
       "      <td>0</td>\n",
       "      <td>0</td>\n",
       "      <td>0</td>\n",
       "      <td>0</td>\n",
       "      <td>0</td>\n",
       "      <td>0</td>\n",
       "      <td>0</td>\n",
       "      <td>0</td>\n",
       "      <td>0</td>\n",
       "      <td>0</td>\n",
       "      <td>0</td>\n",
       "      <td>0</td>\n",
       "      <td>0</td>\n",
       "      <td>0</td>\n",
       "      <td>1</td>\n",
       "      <td>0</td>\n",
       "      <td>0</td>\n",
       "      <td>0</td>\n",
       "      <td>0</td>\n",
       "      <td>0</td>\n",
       "      <td>0</td>\n",
       "      <td>0</td>\n",
       "      <td>0</td>\n",
       "      <td>0</td>\n",
       "      <td>0</td>\n",
       "      <td>0</td>\n",
       "      <td>0</td>\n",
       "      <td>0</td>\n",
       "      <td>0</td>\n",
       "      <td>0</td>\n",
       "      <td>0</td>\n",
       "      <td>0</td>\n",
       "      <td>0</td>\n",
       "      <td>0</td>\n",
       "      <td>0</td>\n",
       "      <td>0</td>\n",
       "      <td>0</td>\n",
       "      <td>0</td>\n",
       "      <td>0</td>\n",
       "      <td>0</td>\n",
       "      <td>0</td>\n",
       "      <td>0</td>\n",
       "      <td>0</td>\n",
       "      <td>0</td>\n",
       "      <td>0</td>\n",
       "      <td>0</td>\n",
       "      <td>0</td>\n",
       "      <td>0</td>\n",
       "      <td>0</td>\n",
       "      <td>0</td>\n",
       "      <td>0</td>\n",
       "      <td>0</td>\n",
       "      <td>0</td>\n",
       "      <td>0</td>\n",
       "      <td>0</td>\n",
       "      <td>0</td>\n",
       "      <td>0</td>\n",
       "      <td>0</td>\n",
       "      <td>0</td>\n",
       "      <td>0</td>\n",
       "      <td>0</td>\n",
       "      <td>0</td>\n",
       "      <td>0</td>\n",
       "      <td>0</td>\n",
       "      <td>0</td>\n",
       "      <td>0</td>\n",
       "      <td>0</td>\n",
       "      <td>0</td>\n",
       "      <td>0</td>\n",
       "      <td>0</td>\n",
       "      <td>0</td>\n",
       "      <td>0</td>\n",
       "      <td>0</td>\n",
       "      <td>0</td>\n",
       "      <td>0</td>\n",
       "      <td>0</td>\n",
       "      <td>0</td>\n",
       "      <td>0</td>\n",
       "      <td>0</td>\n",
       "      <td>0</td>\n",
       "      <td>0</td>\n",
       "      <td>0</td>\n",
       "      <td>0</td>\n",
       "      <td>0</td>\n",
       "      <td>0</td>\n",
       "      <td>0</td>\n",
       "      <td>0</td>\n",
       "      <td>0</td>\n",
       "      <td>0</td>\n",
       "      <td>0</td>\n",
       "      <td>0</td>\n",
       "      <td>0</td>\n",
       "      <td>0</td>\n",
       "      <td>0</td>\n",
       "      <td>0</td>\n",
       "      <td>0</td>\n",
       "      <td>0</td>\n",
       "      <td>0</td>\n",
       "      <td>0</td>\n",
       "      <td>0</td>\n",
       "      <td>0</td>\n",
       "      <td>0</td>\n",
       "    </tr>\n",
       "    <tr>\n",
       "      <th>3</th>\n",
       "      <td>94362</td>\n",
       "      <td>584199</td>\n",
       "      <td>2016</td>\n",
       "      <td>1</td>\n",
       "      <td>0</td>\n",
       "      <td>0</td>\n",
       "      <td>1</td>\n",
       "      <td>0</td>\n",
       "      <td>0</td>\n",
       "      <td>0</td>\n",
       "      <td>0</td>\n",
       "      <td>0</td>\n",
       "      <td>0</td>\n",
       "      <td>0</td>\n",
       "      <td>0</td>\n",
       "      <td>0</td>\n",
       "      <td>0</td>\n",
       "      <td>0</td>\n",
       "      <td>0</td>\n",
       "      <td>0</td>\n",
       "      <td>0</td>\n",
       "      <td>0</td>\n",
       "      <td>0</td>\n",
       "      <td>0</td>\n",
       "      <td>0</td>\n",
       "      <td>0</td>\n",
       "      <td>0</td>\n",
       "      <td>0</td>\n",
       "      <td>0</td>\n",
       "      <td>0</td>\n",
       "      <td>0</td>\n",
       "      <td>0</td>\n",
       "      <td>0</td>\n",
       "      <td>0</td>\n",
       "      <td>0</td>\n",
       "      <td>0</td>\n",
       "      <td>0</td>\n",
       "      <td>1</td>\n",
       "      <td>0</td>\n",
       "      <td>0</td>\n",
       "      <td>0</td>\n",
       "      <td>0</td>\n",
       "      <td>0</td>\n",
       "      <td>0</td>\n",
       "      <td>0</td>\n",
       "      <td>0</td>\n",
       "      <td>0</td>\n",
       "      <td>0</td>\n",
       "      <td>0</td>\n",
       "      <td>1</td>\n",
       "      <td>0</td>\n",
       "      <td>0</td>\n",
       "      <td>0</td>\n",
       "      <td>0</td>\n",
       "      <td>0</td>\n",
       "      <td>0</td>\n",
       "      <td>0</td>\n",
       "      <td>0</td>\n",
       "      <td>0</td>\n",
       "      <td>0</td>\n",
       "      <td>0</td>\n",
       "      <td>0</td>\n",
       "      <td>0</td>\n",
       "      <td>0</td>\n",
       "      <td>0</td>\n",
       "      <td>0</td>\n",
       "      <td>0</td>\n",
       "      <td>0</td>\n",
       "      <td>0</td>\n",
       "      <td>0</td>\n",
       "      <td>0</td>\n",
       "      <td>0</td>\n",
       "      <td>0</td>\n",
       "      <td>0</td>\n",
       "      <td>0</td>\n",
       "      <td>0</td>\n",
       "      <td>0</td>\n",
       "      <td>0</td>\n",
       "      <td>0</td>\n",
       "      <td>0</td>\n",
       "      <td>0</td>\n",
       "      <td>0</td>\n",
       "      <td>0</td>\n",
       "      <td>0</td>\n",
       "      <td>0</td>\n",
       "      <td>0</td>\n",
       "      <td>0</td>\n",
       "      <td>0</td>\n",
       "      <td>0</td>\n",
       "      <td>1</td>\n",
       "      <td>0</td>\n",
       "      <td>0</td>\n",
       "      <td>0</td>\n",
       "      <td>0</td>\n",
       "      <td>0</td>\n",
       "      <td>0</td>\n",
       "      <td>0</td>\n",
       "      <td>0</td>\n",
       "      <td>0</td>\n",
       "      <td>0</td>\n",
       "      <td>0</td>\n",
       "      <td>0</td>\n",
       "      <td>0</td>\n",
       "      <td>0</td>\n",
       "      <td>0</td>\n",
       "      <td>0</td>\n",
       "      <td>0</td>\n",
       "      <td>0</td>\n",
       "      <td>0</td>\n",
       "      <td>0</td>\n",
       "      <td>0</td>\n",
       "      <td>0</td>\n",
       "      <td>0</td>\n",
       "      <td>0</td>\n",
       "      <td>0</td>\n",
       "      <td>0</td>\n",
       "      <td>0</td>\n",
       "      <td>0</td>\n",
       "      <td>0</td>\n",
       "      <td>0</td>\n",
       "      <td>0</td>\n",
       "      <td>0</td>\n",
       "      <td>0</td>\n",
       "      <td>0</td>\n",
       "      <td>0</td>\n",
       "      <td>0</td>\n",
       "      <td>0</td>\n",
       "      <td>0</td>\n",
       "      <td>0</td>\n",
       "      <td>0</td>\n",
       "      <td>0</td>\n",
       "      <td>0</td>\n",
       "      <td>0</td>\n",
       "      <td>0</td>\n",
       "      <td>0</td>\n",
       "      <td>0</td>\n",
       "      <td>0</td>\n",
       "      <td>0</td>\n",
       "      <td>0</td>\n",
       "      <td>0</td>\n",
       "      <td>0</td>\n",
       "      <td>0</td>\n",
       "      <td>0</td>\n",
       "      <td>0</td>\n",
       "      <td>0</td>\n",
       "      <td>0</td>\n",
       "      <td>0</td>\n",
       "      <td>0</td>\n",
       "      <td>0</td>\n",
       "      <td>0</td>\n",
       "      <td>0</td>\n",
       "      <td>0</td>\n",
       "      <td>0</td>\n",
       "      <td>0</td>\n",
       "      <td>0</td>\n",
       "      <td>0</td>\n",
       "      <td>0</td>\n",
       "    </tr>\n",
       "    <tr>\n",
       "      <th>4</th>\n",
       "      <td>17227</td>\n",
       "      <td>812299</td>\n",
       "      <td>2017</td>\n",
       "      <td>1</td>\n",
       "      <td>1</td>\n",
       "      <td>0</td>\n",
       "      <td>0</td>\n",
       "      <td>0</td>\n",
       "      <td>0</td>\n",
       "      <td>0</td>\n",
       "      <td>0</td>\n",
       "      <td>0</td>\n",
       "      <td>1</td>\n",
       "      <td>0</td>\n",
       "      <td>0</td>\n",
       "      <td>0</td>\n",
       "      <td>1</td>\n",
       "      <td>0</td>\n",
       "      <td>0</td>\n",
       "      <td>0</td>\n",
       "      <td>0</td>\n",
       "      <td>0</td>\n",
       "      <td>0</td>\n",
       "      <td>0</td>\n",
       "      <td>0</td>\n",
       "      <td>0</td>\n",
       "      <td>0</td>\n",
       "      <td>0</td>\n",
       "      <td>0</td>\n",
       "      <td>0</td>\n",
       "      <td>0</td>\n",
       "      <td>0</td>\n",
       "      <td>0</td>\n",
       "      <td>0</td>\n",
       "      <td>0</td>\n",
       "      <td>0</td>\n",
       "      <td>0</td>\n",
       "      <td>1</td>\n",
       "      <td>0</td>\n",
       "      <td>0</td>\n",
       "      <td>0</td>\n",
       "      <td>0</td>\n",
       "      <td>0</td>\n",
       "      <td>0</td>\n",
       "      <td>1</td>\n",
       "      <td>0</td>\n",
       "      <td>0</td>\n",
       "      <td>0</td>\n",
       "      <td>0</td>\n",
       "      <td>0</td>\n",
       "      <td>0</td>\n",
       "      <td>0</td>\n",
       "      <td>0</td>\n",
       "      <td>0</td>\n",
       "      <td>0</td>\n",
       "      <td>0</td>\n",
       "      <td>0</td>\n",
       "      <td>0</td>\n",
       "      <td>0</td>\n",
       "      <td>0</td>\n",
       "      <td>0</td>\n",
       "      <td>0</td>\n",
       "      <td>0</td>\n",
       "      <td>0</td>\n",
       "      <td>0</td>\n",
       "      <td>0</td>\n",
       "      <td>0</td>\n",
       "      <td>0</td>\n",
       "      <td>0</td>\n",
       "      <td>0</td>\n",
       "      <td>0</td>\n",
       "      <td>0</td>\n",
       "      <td>0</td>\n",
       "      <td>0</td>\n",
       "      <td>0</td>\n",
       "      <td>0</td>\n",
       "      <td>0</td>\n",
       "      <td>0</td>\n",
       "      <td>0</td>\n",
       "      <td>0</td>\n",
       "      <td>0</td>\n",
       "      <td>0</td>\n",
       "      <td>1</td>\n",
       "      <td>0</td>\n",
       "      <td>0</td>\n",
       "      <td>0</td>\n",
       "      <td>0</td>\n",
       "      <td>0</td>\n",
       "      <td>0</td>\n",
       "      <td>0</td>\n",
       "      <td>0</td>\n",
       "      <td>0</td>\n",
       "      <td>0</td>\n",
       "      <td>0</td>\n",
       "      <td>0</td>\n",
       "      <td>0</td>\n",
       "      <td>0</td>\n",
       "      <td>0</td>\n",
       "      <td>0</td>\n",
       "      <td>0</td>\n",
       "      <td>0</td>\n",
       "      <td>0</td>\n",
       "      <td>0</td>\n",
       "      <td>0</td>\n",
       "      <td>0</td>\n",
       "      <td>0</td>\n",
       "      <td>0</td>\n",
       "      <td>0</td>\n",
       "      <td>0</td>\n",
       "      <td>0</td>\n",
       "      <td>0</td>\n",
       "      <td>0</td>\n",
       "      <td>0</td>\n",
       "      <td>0</td>\n",
       "      <td>0</td>\n",
       "      <td>0</td>\n",
       "      <td>0</td>\n",
       "      <td>0</td>\n",
       "      <td>0</td>\n",
       "      <td>0</td>\n",
       "      <td>0</td>\n",
       "      <td>0</td>\n",
       "      <td>0</td>\n",
       "      <td>0</td>\n",
       "      <td>0</td>\n",
       "      <td>0</td>\n",
       "      <td>0</td>\n",
       "      <td>0</td>\n",
       "      <td>0</td>\n",
       "      <td>0</td>\n",
       "      <td>0</td>\n",
       "      <td>0</td>\n",
       "      <td>0</td>\n",
       "      <td>0</td>\n",
       "      <td>0</td>\n",
       "      <td>0</td>\n",
       "      <td>0</td>\n",
       "      <td>0</td>\n",
       "      <td>0</td>\n",
       "      <td>0</td>\n",
       "      <td>0</td>\n",
       "      <td>0</td>\n",
       "      <td>0</td>\n",
       "      <td>0</td>\n",
       "      <td>0</td>\n",
       "      <td>0</td>\n",
       "      <td>0</td>\n",
       "      <td>0</td>\n",
       "      <td>0</td>\n",
       "      <td>0</td>\n",
       "      <td>0</td>\n",
       "      <td>0</td>\n",
       "      <td>0</td>\n",
       "      <td>0</td>\n",
       "      <td>0</td>\n",
       "      <td>0</td>\n",
       "      <td>0</td>\n",
       "    </tr>\n",
       "  </tbody>\n",
       "</table>\n",
       "</div>"
      ],
      "text/plain": [
       "   Mileage   Price  Year  Manual  1.5-2.0 Liter  2.0+ Liter  Basic Diesel  \\\n",
       "0    19158  924099  2020       1              0           0             0   \n",
       "1    44585  546099  2014       1              0           0             0   \n",
       "2     9483  615199  2018       1              0           0             0   \n",
       "3    94362  584199  2016       1              0           0             1   \n",
       "4    17227  812299  2017       1              1           0             0   \n",
       "\n",
       "   Basic Petrol  Middle Petrol  Other  Top Diesel  Top Petrol  2nd Owner  \\\n",
       "0             0              0      1           0           0          0   \n",
       "1             0              0      0           0           0          1   \n",
       "2             0              0      0           0           0          1   \n",
       "3             0              0      0           0           0          0   \n",
       "4             0              0      0           0           0          1   \n",
       "\n",
       "   3rd Owner  4th Owner  5th Owner  Petrol  Petrol + CNG  Petrol + LPG  \\\n",
       "0          0          0          0       1             0             0   \n",
       "1          0          0          0       0             0             0   \n",
       "2          0          0          0       1             0             0   \n",
       "3          0          0          0       0             0             0   \n",
       "4          0          0          0       1             0             0   \n",
       "\n",
       "   Bengaluru  Bhopal  Chandigarh  Chennai  Delhi  Hyderabad  Jaipur  Kochi  \\\n",
       "0          0       0           0        0      0          0       0      0   \n",
       "1          0       0           0        0      0          0       0      0   \n",
       "2          0       0           0        0      0          0       0      0   \n",
       "3          0       0           0        0      0          0       0      0   \n",
       "4          0       0           0        0      0          0       0      0   \n",
       "\n",
       "   Kolkata  Lucknow  Ludhiana  Meerut  Mumbai  Mysore  Nasik  Panipat  Pune  \\\n",
       "0        0        0         0       0       0       0      0        0     0   \n",
       "1        0        0         0       0       0       0      0        0     0   \n",
       "2        0        0         0       0       0       0      0        0     0   \n",
       "3        0        0         0       0       0       0      0        0     0   \n",
       "4        0        0         0       0       0       0      0        0     0   \n",
       "\n",
       "   Rajkot  Rohtak  Surat  Vadodara  BMW  Datsun  Ford  Honda  Hyundai  Jeep  \\\n",
       "0       0       1      0         0    0       0     0      0        1     0   \n",
       "1       0       1      0         0    0       0     0      0        1     0   \n",
       "2       0       1      0         0    0       0     0      0        0     0   \n",
       "3       0       1      0         0    0       0     0      0        0     0   \n",
       "4       0       1      0         0    0       0     0      0        1     0   \n",
       "\n",
       "   KIA  MG  Mahindra  Maruti  Mercedes  Nissan  Renault  Skoda  Ssangyong  \\\n",
       "0    0   0         0       0         0       0        0      0          0   \n",
       "1    0   0         0       0         0       0        0      0          0   \n",
       "2    0   0         0       1         0       0        0      0          0   \n",
       "3    0   0         0       1         0       0        0      0          0   \n",
       "4    0   0         0       0         0       0        0      0          0   \n",
       "\n",
       "   Tata  Toyota  Volkswagen  5  A  A3  A4  ALTROZ  AURA  Accord  Alto  Amaze  \\\n",
       "0     0       0           0  0  0   0   0       0     0       0     0      0   \n",
       "1     0       0           0  0  0   0   0       0     0       0     0      0   \n",
       "2     0       0           0  0  0   0   0       0     0       0     0      0   \n",
       "3     0       0           0  0  0   0   0       0     0       0     0      0   \n",
       "4     0       0           0  0  0   0   0       0     0       0     0      0   \n",
       "\n",
       "   Ameo  BR-V  Baleno  Benz  Bolero  Brio  CRV  Camry  Captur  Celerio  Ciaz  \\\n",
       "0     0     0       0     0       0     0    0      0       0        0     0   \n",
       "1     0     0       0     0       0     0    0      0       0        0     0   \n",
       "2     0     0       1     0       0     0    0      0       0        0     0   \n",
       "3     0     0       0     0       0     0    0      0       0        0     0   \n",
       "4     0     0       0     0       0     0    0      0       0        0     0   \n",
       "\n",
       "   City  Civic  Compass  Corolla  Creta  Duster  Dzire  Ecosport  Eeco  Elite  \\\n",
       "0     0      0        0        0      0       0      0         0     0      0   \n",
       "1     0      0        0        0      0       0      0         0     0      0   \n",
       "2     0      0        0        0      0       0      0         0     0      0   \n",
       "3     0      0        0        0      0       0      0         0     0      0   \n",
       "4     0      0        0        0      1       0      0         0     0      0   \n",
       "\n",
       "   Eon  Ertiga  Etios  FREESTYLE  Fiesta  Figo  Fortuner  GRAND  Glanza  Go  \\\n",
       "0    0       0      0          0       0     0         0      0       0   0   \n",
       "1    0       0      0          0       0     0         0      0       0   0   \n",
       "2    0       0      0          0       0     0         0      0       0   0   \n",
       "3    0       1      0          0       0     0         0      0       0   0   \n",
       "4    0       0      0          0       0     0         0      0       0   0   \n",
       "\n",
       "   Grand  HECTOR  Harrier  Hexa  IGNIS  Innova  Jazz  Jetta  KAROQ  KUV  \\\n",
       "0      0       0        0     0      0       0     0      0      0    0   \n",
       "1      0       0        0     0      0       0     0      0      0    0   \n",
       "2      0       0        0     0      0       0     0      0      0    0   \n",
       "3      0       0        0     0      0       0     0      0      0    0   \n",
       "4      0       0        0     0      0       0     0      0      0    0   \n",
       "\n",
       "   Kuv100  Kwid  Lodgy  MARAZZO  Micra  NEW  NEXON  Nano  New  OMNI  Octavia  \\\n",
       "0       0     0      0        0      0    0      0     0    0     0        0   \n",
       "1       0     0      0        0      0    0      0     0    0     0        0   \n",
       "2       0     0      0        0      0    0      0     0    0     0        0   \n",
       "3       0     0      0        0      0    0      0     0    0     0        0   \n",
       "4       0     0      0        0      0    0      0     0    0     0        0   \n",
       "\n",
       "   Polo  Prius  Q3  Rapid  Redi  Rexton  Ritz  S  SELTOS  SONET  SX4  Santro  \\\n",
       "0     0      0   0      0     0       0     0  0       0      0    0       0   \n",
       "1     0      0   0      0     0       0     0  0       0      0    0       0   \n",
       "2     0      0   0      0     0       0     0  0       0      0    0       0   \n",
       "3     0      0   0      0     0       0     0  0       0      0    0       0   \n",
       "4     0      0   0      0     0       0     0  0       0      0    0       0   \n",
       "\n",
       "   Scorpio  Sunny  Superb  Swift  TIGOR  TRIBER  TUV300  Thar  Tiago  Tucson  \\\n",
       "0        0      0       0      0      0       0       0     0      0       0   \n",
       "1        0      0       0      0      0       0       0     0      0       0   \n",
       "2        0      0       0      0      0       0       0     0      0       0   \n",
       "3        0      0       0      0      0       0       0     0      0       0   \n",
       "4        0      0       0      0      0       0       0     0      0       0   \n",
       "\n",
       "   VENUE  Vento  Verna  Vitara  WR-V  Wagon  X1  XL6  XUV  XUV500  Xcent  \\\n",
       "0      0      0      1       0     0      0   0    0    0       0      0   \n",
       "1      0      0      1       0     0      0   0    0    0       0      0   \n",
       "2      0      0      0       0     0      0   0    0    0       0      0   \n",
       "3      0      0      0       0     0      0   0    0    0       0      0   \n",
       "4      0      0      0       0     0      0   0    0    0       0      0   \n",
       "\n",
       "   YARIS  Zen  Zest  i10  i20  \n",
       "0      0    0     0    0    0  \n",
       "1      0    0     0    0    0  \n",
       "2      0    0     0    0    0  \n",
       "3      0    0     0    0    0  \n",
       "4      0    0     0    0    0  "
      ]
     },
     "execution_count": 52,
     "metadata": {},
     "output_type": "execute_result"
    }
   ],
   "source": [
    "df.head() # Dummy variables have been created"
   ]
  },
  {
   "cell_type": "code",
   "execution_count": 53,
   "metadata": {},
   "outputs": [
    {
     "data": {
      "text/plain": [
       "(5339, 157)"
      ]
     },
     "execution_count": 53,
     "metadata": {},
     "output_type": "execute_result"
    }
   ],
   "source": [
    "df.shape # We have 5339 rows, and 157 coulmns after creating dummy variables"
   ]
  },
  {
   "cell_type": "code",
   "execution_count": 54,
   "metadata": {},
   "outputs": [
    {
     "name": "stdout",
     "output_type": "stream",
     "text": [
      "Skew of Pirce: 2.0398565390925087\n"
     ]
    },
    {
     "data": {
      "image/png": "[encoded data removed]",
      "text/plain": [
       "<Figure size 360x360 with 1 Axes>"
      ]
     },
     "metadata": {
      "needs_background": "light"
     },
     "output_type": "display_data"
    }
   ],
   "source": [
    "fig = plt.figure(figsize=(5,5))\n",
    "\n",
    "print (\"Skew of Pirce:\", df.Price.skew())\n",
    "plt.hist(df.Price,  color='red')\n",
    "plt.show() # Checking skew of target variable"
   ]
  },
  {
   "cell_type": "code",
   "execution_count": 55,
   "metadata": {},
   "outputs": [
    {
     "name": "stdout",
     "output_type": "stream",
     "text": [
      "Skew of Log-Transformed Price: 0.3518219716476838\n"
     ]
    },
    {
     "data": {
      "image/png": "[encoded data removed]",
      "text/plain": [
       "<Figure size 360x360 with 1 Axes>"
      ]
     },
     "metadata": {
      "needs_background": "light"
     },
     "output_type": "display_data"
    }
   ],
   "source": [
    "fig = plt.figure(figsize=(5,5))\n",
    "\n",
    "print (\"Skew of Log-Transformed Price:\", np.log1p(df.Price).skew())\n",
    "plt.hist(np.log1p(df.Price), color='green')\n",
    "plt.show() # Fixing the skew by taking log"
   ]
  },
  {
   "cell_type": "code",
   "execution_count": 56,
   "metadata": {},
   "outputs": [
    {
     "name": "stdout",
     "output_type": "stream",
     "text": [
      "Skew of Mileage 4.327838952335529\n"
     ]
    },
    {
     "data": {
      "image/png": "[encoded data removed]",
      "text/plain": [
       "<Figure size 360x360 with 1 Axes>"
      ]
     },
     "metadata": {
      "needs_background": "light"
     },
     "output_type": "display_data"
    }
   ],
   "source": [
    "fig = plt.figure(figsize=(5,5))\n",
    "\n",
    "print (\"Skew of Mileage\", df.Mileage.skew())\n",
    "plt.hist(df.Mileage,  color='red')\n",
    "plt.show() # Checking skew of variable"
   ]
  },
  {
   "cell_type": "code",
   "execution_count": 57,
   "metadata": {},
   "outputs": [
    {
     "name": "stdout",
     "output_type": "stream",
     "text": [
      "Skew of Log-Transformed Mileage -0.7418179550641549\n"
     ]
    },
    {
     "data": {
      "image/png": "[encoded data removed]",
      "text/plain": [
       "<Figure size 360x360 with 1 Axes>"
      ]
     },
     "metadata": {
      "needs_background": "light"
     },
     "output_type": "display_data"
    }
   ],
   "source": [
    "fig = plt.figure(figsize=(5,5))\n",
    "\n",
    "print (\"Skew of Log-Transformed Mileage\", np.log1p(df.Mileage).skew())\n",
    "plt.hist(np.log1p(df.Mileage), color='green')\n",
    "plt.show() # Reducting the skew by taking log"
   ]
  },
  {
   "cell_type": "markdown",
   "metadata": {},
   "source": [
    "### Model building phase"
   ]
  },
  {
   "cell_type": "code",
   "execution_count": 58,
   "metadata": {},
   "outputs": [],
   "source": [
    "from sklearn.model_selection import train_test_split\n",
    "from sklearn.linear_model import LogisticRegression\n",
    "from sklearn.tree import DecisionTreeRegressor\n",
    "from sklearn import linear_model\n",
    "from sklearn.linear_model import LinearRegression\n",
    "from sklearn.ensemble import RandomForestRegressor\n",
    "from sklearn.svm import SVR\n",
    "from sklearn.model_selection import cross_val_score, cross_val_predict\n",
    "import sklearn.metrics as sm\n",
    "from math import e\n",
    "# Importing useful libraries"
   ]
  },
  {
   "cell_type": "code",
   "execution_count": 59,
   "metadata": {},
   "outputs": [
    {
     "data": {
      "text/html": [
       "<div>\n",
       "<style scoped>\n",
       "    .dataframe tbody tr th:only-of-type {\n",
       "        vertical-align: middle;\n",
       "    }\n",
       "\n",
       "    .dataframe tbody tr th {\n",
       "        vertical-align: top;\n",
       "    }\n",
       "\n",
       "    .dataframe thead th {\n",
       "        text-align: right;\n",
       "    }\n",
       "</style>\n",
       "<table border=\"1\" class=\"dataframe\">\n",
       "  <thead>\n",
       "    <tr style=\"text-align: right;\">\n",
       "      <th></th>\n",
       "      <th>Mileage</th>\n",
       "      <th>Price</th>\n",
       "      <th>Year</th>\n",
       "      <th>Manual</th>\n",
       "      <th>1.5-2.0 Liter</th>\n",
       "      <th>2.0+ Liter</th>\n",
       "      <th>Basic Diesel</th>\n",
       "      <th>Basic Petrol</th>\n",
       "      <th>Middle Petrol</th>\n",
       "      <th>Other</th>\n",
       "      <th>Top Diesel</th>\n",
       "      <th>Top Petrol</th>\n",
       "      <th>2nd Owner</th>\n",
       "      <th>3rd Owner</th>\n",
       "      <th>4th Owner</th>\n",
       "      <th>5th Owner</th>\n",
       "      <th>Petrol</th>\n",
       "      <th>Petrol + CNG</th>\n",
       "      <th>Petrol + LPG</th>\n",
       "      <th>Bengaluru</th>\n",
       "      <th>Bhopal</th>\n",
       "      <th>Chandigarh</th>\n",
       "      <th>Chennai</th>\n",
       "      <th>Delhi</th>\n",
       "      <th>Hyderabad</th>\n",
       "      <th>Jaipur</th>\n",
       "      <th>Kochi</th>\n",
       "      <th>Kolkata</th>\n",
       "      <th>Lucknow</th>\n",
       "      <th>Ludhiana</th>\n",
       "      <th>Meerut</th>\n",
       "      <th>Mumbai</th>\n",
       "      <th>Mysore</th>\n",
       "      <th>Nasik</th>\n",
       "      <th>Panipat</th>\n",
       "      <th>Pune</th>\n",
       "      <th>Rajkot</th>\n",
       "      <th>Rohtak</th>\n",
       "      <th>Surat</th>\n",
       "      <th>Vadodara</th>\n",
       "      <th>BMW</th>\n",
       "      <th>Datsun</th>\n",
       "      <th>Ford</th>\n",
       "      <th>Honda</th>\n",
       "      <th>Hyundai</th>\n",
       "      <th>Jeep</th>\n",
       "      <th>KIA</th>\n",
       "      <th>MG</th>\n",
       "      <th>Mahindra</th>\n",
       "      <th>Maruti</th>\n",
       "      <th>Mercedes</th>\n",
       "      <th>Nissan</th>\n",
       "      <th>Renault</th>\n",
       "      <th>Skoda</th>\n",
       "      <th>Ssangyong</th>\n",
       "      <th>Tata</th>\n",
       "      <th>Toyota</th>\n",
       "      <th>Volkswagen</th>\n",
       "      <th>5</th>\n",
       "      <th>A</th>\n",
       "      <th>A3</th>\n",
       "      <th>A4</th>\n",
       "      <th>ALTROZ</th>\n",
       "      <th>AURA</th>\n",
       "      <th>Accord</th>\n",
       "      <th>Alto</th>\n",
       "      <th>Amaze</th>\n",
       "      <th>Ameo</th>\n",
       "      <th>BR-V</th>\n",
       "      <th>Baleno</th>\n",
       "      <th>Benz</th>\n",
       "      <th>Bolero</th>\n",
       "      <th>Brio</th>\n",
       "      <th>CRV</th>\n",
       "      <th>Camry</th>\n",
       "      <th>Captur</th>\n",
       "      <th>Celerio</th>\n",
       "      <th>Ciaz</th>\n",
       "      <th>City</th>\n",
       "      <th>Civic</th>\n",
       "      <th>Compass</th>\n",
       "      <th>Corolla</th>\n",
       "      <th>Creta</th>\n",
       "      <th>Duster</th>\n",
       "      <th>Dzire</th>\n",
       "      <th>Ecosport</th>\n",
       "      <th>Eeco</th>\n",
       "      <th>Elite</th>\n",
       "      <th>Eon</th>\n",
       "      <th>Ertiga</th>\n",
       "      <th>Etios</th>\n",
       "      <th>FREESTYLE</th>\n",
       "      <th>Fiesta</th>\n",
       "      <th>Figo</th>\n",
       "      <th>Fortuner</th>\n",
       "      <th>GRAND</th>\n",
       "      <th>Glanza</th>\n",
       "      <th>Go</th>\n",
       "      <th>Grand</th>\n",
       "      <th>HECTOR</th>\n",
       "      <th>Harrier</th>\n",
       "      <th>Hexa</th>\n",
       "      <th>IGNIS</th>\n",
       "      <th>Innova</th>\n",
       "      <th>Jazz</th>\n",
       "      <th>Jetta</th>\n",
       "      <th>KAROQ</th>\n",
       "      <th>KUV</th>\n",
       "      <th>Kuv100</th>\n",
       "      <th>Kwid</th>\n",
       "      <th>Lodgy</th>\n",
       "      <th>MARAZZO</th>\n",
       "      <th>Micra</th>\n",
       "      <th>NEW</th>\n",
       "      <th>NEXON</th>\n",
       "      <th>Nano</th>\n",
       "      <th>New</th>\n",
       "      <th>OMNI</th>\n",
       "      <th>Octavia</th>\n",
       "      <th>Polo</th>\n",
       "      <th>Prius</th>\n",
       "      <th>Q3</th>\n",
       "      <th>Rapid</th>\n",
       "      <th>Redi</th>\n",
       "      <th>Rexton</th>\n",
       "      <th>Ritz</th>\n",
       "      <th>S</th>\n",
       "      <th>SELTOS</th>\n",
       "      <th>SONET</th>\n",
       "      <th>SX4</th>\n",
       "      <th>Santro</th>\n",
       "      <th>Scorpio</th>\n",
       "      <th>Sunny</th>\n",
       "      <th>Superb</th>\n",
       "      <th>Swift</th>\n",
       "      <th>TIGOR</th>\n",
       "      <th>TRIBER</th>\n",
       "      <th>TUV300</th>\n",
       "      <th>Thar</th>\n",
       "      <th>Tiago</th>\n",
       "      <th>Tucson</th>\n",
       "      <th>VENUE</th>\n",
       "      <th>Vento</th>\n",
       "      <th>Verna</th>\n",
       "      <th>Vitara</th>\n",
       "      <th>WR-V</th>\n",
       "      <th>Wagon</th>\n",
       "      <th>X1</th>\n",
       "      <th>XL6</th>\n",
       "      <th>XUV</th>\n",
       "      <th>XUV500</th>\n",
       "      <th>Xcent</th>\n",
       "      <th>YARIS</th>\n",
       "      <th>Zen</th>\n",
       "      <th>Zest</th>\n",
       "      <th>i10</th>\n",
       "      <th>i20</th>\n",
       "    </tr>\n",
       "  </thead>\n",
       "  <tbody>\n",
       "    <tr>\n",
       "      <th>0</th>\n",
       "      <td>19158</td>\n",
       "      <td>924099</td>\n",
       "      <td>2020</td>\n",
       "      <td>1</td>\n",
       "      <td>0</td>\n",
       "      <td>0</td>\n",
       "      <td>0</td>\n",
       "      <td>0</td>\n",
       "      <td>0</td>\n",
       "      <td>1</td>\n",
       "      <td>0</td>\n",
       "      <td>0</td>\n",
       "      <td>0</td>\n",
       "      <td>0</td>\n",
       "      <td>0</td>\n",
       "      <td>0</td>\n",
       "      <td>1</td>\n",
       "      <td>0</td>\n",
       "      <td>0</td>\n",
       "      <td>0</td>\n",
       "      <td>0</td>\n",
       "      <td>0</td>\n",
       "      <td>0</td>\n",
       "      <td>0</td>\n",
       "      <td>0</td>\n",
       "      <td>0</td>\n",
       "      <td>0</td>\n",
       "      <td>0</td>\n",
       "      <td>0</td>\n",
       "      <td>0</td>\n",
       "      <td>0</td>\n",
       "      <td>0</td>\n",
       "      <td>0</td>\n",
       "      <td>0</td>\n",
       "      <td>0</td>\n",
       "      <td>0</td>\n",
       "      <td>0</td>\n",
       "      <td>1</td>\n",
       "      <td>0</td>\n",
       "      <td>0</td>\n",
       "      <td>0</td>\n",
       "      <td>0</td>\n",
       "      <td>0</td>\n",
       "      <td>0</td>\n",
       "      <td>1</td>\n",
       "      <td>0</td>\n",
       "      <td>0</td>\n",
       "      <td>0</td>\n",
       "      <td>0</td>\n",
       "      <td>0</td>\n",
       "      <td>0</td>\n",
       "      <td>0</td>\n",
       "      <td>0</td>\n",
       "      <td>0</td>\n",
       "      <td>0</td>\n",
       "      <td>0</td>\n",
       "      <td>0</td>\n",
       "      <td>0</td>\n",
       "      <td>0</td>\n",
       "      <td>0</td>\n",
       "      <td>0</td>\n",
       "      <td>0</td>\n",
       "      <td>0</td>\n",
       "      <td>0</td>\n",
       "      <td>0</td>\n",
       "      <td>0</td>\n",
       "      <td>0</td>\n",
       "      <td>0</td>\n",
       "      <td>0</td>\n",
       "      <td>0</td>\n",
       "      <td>0</td>\n",
       "      <td>0</td>\n",
       "      <td>0</td>\n",
       "      <td>0</td>\n",
       "      <td>0</td>\n",
       "      <td>0</td>\n",
       "      <td>0</td>\n",
       "      <td>0</td>\n",
       "      <td>0</td>\n",
       "      <td>0</td>\n",
       "      <td>0</td>\n",
       "      <td>0</td>\n",
       "      <td>0</td>\n",
       "      <td>0</td>\n",
       "      <td>0</td>\n",
       "      <td>0</td>\n",
       "      <td>0</td>\n",
       "      <td>0</td>\n",
       "      <td>0</td>\n",
       "      <td>0</td>\n",
       "      <td>0</td>\n",
       "      <td>0</td>\n",
       "      <td>0</td>\n",
       "      <td>0</td>\n",
       "      <td>0</td>\n",
       "      <td>0</td>\n",
       "      <td>0</td>\n",
       "      <td>0</td>\n",
       "      <td>0</td>\n",
       "      <td>0</td>\n",
       "      <td>0</td>\n",
       "      <td>0</td>\n",
       "      <td>0</td>\n",
       "      <td>0</td>\n",
       "      <td>0</td>\n",
       "      <td>0</td>\n",
       "      <td>0</td>\n",
       "      <td>0</td>\n",
       "      <td>0</td>\n",
       "      <td>0</td>\n",
       "      <td>0</td>\n",
       "      <td>0</td>\n",
       "      <td>0</td>\n",
       "      <td>0</td>\n",
       "      <td>0</td>\n",
       "      <td>0</td>\n",
       "      <td>0</td>\n",
       "      <td>0</td>\n",
       "      <td>0</td>\n",
       "      <td>0</td>\n",
       "      <td>0</td>\n",
       "      <td>0</td>\n",
       "      <td>0</td>\n",
       "      <td>0</td>\n",
       "      <td>0</td>\n",
       "      <td>0</td>\n",
       "      <td>0</td>\n",
       "      <td>0</td>\n",
       "      <td>0</td>\n",
       "      <td>0</td>\n",
       "      <td>0</td>\n",
       "      <td>0</td>\n",
       "      <td>0</td>\n",
       "      <td>0</td>\n",
       "      <td>0</td>\n",
       "      <td>0</td>\n",
       "      <td>0</td>\n",
       "      <td>0</td>\n",
       "      <td>0</td>\n",
       "      <td>0</td>\n",
       "      <td>0</td>\n",
       "      <td>0</td>\n",
       "      <td>0</td>\n",
       "      <td>1</td>\n",
       "      <td>0</td>\n",
       "      <td>0</td>\n",
       "      <td>0</td>\n",
       "      <td>0</td>\n",
       "      <td>0</td>\n",
       "      <td>0</td>\n",
       "      <td>0</td>\n",
       "      <td>0</td>\n",
       "      <td>0</td>\n",
       "      <td>0</td>\n",
       "      <td>0</td>\n",
       "      <td>0</td>\n",
       "      <td>0</td>\n",
       "    </tr>\n",
       "    <tr>\n",
       "      <th>1</th>\n",
       "      <td>44585</td>\n",
       "      <td>546099</td>\n",
       "      <td>2014</td>\n",
       "      <td>1</td>\n",
       "      <td>0</td>\n",
       "      <td>0</td>\n",
       "      <td>0</td>\n",
       "      <td>0</td>\n",
       "      <td>0</td>\n",
       "      <td>0</td>\n",
       "      <td>0</td>\n",
       "      <td>0</td>\n",
       "      <td>1</td>\n",
       "      <td>0</td>\n",
       "      <td>0</td>\n",
       "      <td>0</td>\n",
       "      <td>0</td>\n",
       "      <td>0</td>\n",
       "      <td>0</td>\n",
       "      <td>0</td>\n",
       "      <td>0</td>\n",
       "      <td>0</td>\n",
       "      <td>0</td>\n",
       "      <td>0</td>\n",
       "      <td>0</td>\n",
       "      <td>0</td>\n",
       "      <td>0</td>\n",
       "      <td>0</td>\n",
       "      <td>0</td>\n",
       "      <td>0</td>\n",
       "      <td>0</td>\n",
       "      <td>0</td>\n",
       "      <td>0</td>\n",
       "      <td>0</td>\n",
       "      <td>0</td>\n",
       "      <td>0</td>\n",
       "      <td>0</td>\n",
       "      <td>1</td>\n",
       "      <td>0</td>\n",
       "      <td>0</td>\n",
       "      <td>0</td>\n",
       "      <td>0</td>\n",
       "      <td>0</td>\n",
       "      <td>0</td>\n",
       "      <td>1</td>\n",
       "      <td>0</td>\n",
       "      <td>0</td>\n",
       "      <td>0</td>\n",
       "      <td>0</td>\n",
       "      <td>0</td>\n",
       "      <td>0</td>\n",
       "      <td>0</td>\n",
       "      <td>0</td>\n",
       "      <td>0</td>\n",
       "      <td>0</td>\n",
       "      <td>0</td>\n",
       "      <td>0</td>\n",
       "      <td>0</td>\n",
       "      <td>0</td>\n",
       "      <td>0</td>\n",
       "      <td>0</td>\n",
       "      <td>0</td>\n",
       "      <td>0</td>\n",
       "      <td>0</td>\n",
       "      <td>0</td>\n",
       "      <td>0</td>\n",
       "      <td>0</td>\n",
       "      <td>0</td>\n",
       "      <td>0</td>\n",
       "      <td>0</td>\n",
       "      <td>0</td>\n",
       "      <td>0</td>\n",
       "      <td>0</td>\n",
       "      <td>0</td>\n",
       "      <td>0</td>\n",
       "      <td>0</td>\n",
       "      <td>0</td>\n",
       "      <td>0</td>\n",
       "      <td>0</td>\n",
       "      <td>0</td>\n",
       "      <td>0</td>\n",
       "      <td>0</td>\n",
       "      <td>0</td>\n",
       "      <td>0</td>\n",
       "      <td>0</td>\n",
       "      <td>0</td>\n",
       "      <td>0</td>\n",
       "      <td>0</td>\n",
       "      <td>0</td>\n",
       "      <td>0</td>\n",
       "      <td>0</td>\n",
       "      <td>0</td>\n",
       "      <td>0</td>\n",
       "      <td>0</td>\n",
       "      <td>0</td>\n",
       "      <td>0</td>\n",
       "      <td>0</td>\n",
       "      <td>0</td>\n",
       "      <td>0</td>\n",
       "      <td>0</td>\n",
       "      <td>0</td>\n",
       "      <td>0</td>\n",
       "      <td>0</td>\n",
       "      <td>0</td>\n",
       "      <td>0</td>\n",
       "      <td>0</td>\n",
       "      <td>0</td>\n",
       "      <td>0</td>\n",
       "      <td>0</td>\n",
       "      <td>0</td>\n",
       "      <td>0</td>\n",
       "      <td>0</td>\n",
       "      <td>0</td>\n",
       "      <td>0</td>\n",
       "      <td>0</td>\n",
       "      <td>0</td>\n",
       "      <td>0</td>\n",
       "      <td>0</td>\n",
       "      <td>0</td>\n",
       "      <td>0</td>\n",
       "      <td>0</td>\n",
       "      <td>0</td>\n",
       "      <td>0</td>\n",
       "      <td>0</td>\n",
       "      <td>0</td>\n",
       "      <td>0</td>\n",
       "      <td>0</td>\n",
       "      <td>0</td>\n",
       "      <td>0</td>\n",
       "      <td>0</td>\n",
       "      <td>0</td>\n",
       "      <td>0</td>\n",
       "      <td>0</td>\n",
       "      <td>0</td>\n",
       "      <td>0</td>\n",
       "      <td>0</td>\n",
       "      <td>0</td>\n",
       "      <td>0</td>\n",
       "      <td>0</td>\n",
       "      <td>0</td>\n",
       "      <td>0</td>\n",
       "      <td>0</td>\n",
       "      <td>0</td>\n",
       "      <td>1</td>\n",
       "      <td>0</td>\n",
       "      <td>0</td>\n",
       "      <td>0</td>\n",
       "      <td>0</td>\n",
       "      <td>0</td>\n",
       "      <td>0</td>\n",
       "      <td>0</td>\n",
       "      <td>0</td>\n",
       "      <td>0</td>\n",
       "      <td>0</td>\n",
       "      <td>0</td>\n",
       "      <td>0</td>\n",
       "      <td>0</td>\n",
       "    </tr>\n",
       "    <tr>\n",
       "      <th>2</th>\n",
       "      <td>9483</td>\n",
       "      <td>615199</td>\n",
       "      <td>2018</td>\n",
       "      <td>1</td>\n",
       "      <td>0</td>\n",
       "      <td>0</td>\n",
       "      <td>0</td>\n",
       "      <td>0</td>\n",
       "      <td>0</td>\n",
       "      <td>0</td>\n",
       "      <td>0</td>\n",
       "      <td>0</td>\n",
       "      <td>1</td>\n",
       "      <td>0</td>\n",
       "      <td>0</td>\n",
       "      <td>0</td>\n",
       "      <td>1</td>\n",
       "      <td>0</td>\n",
       "      <td>0</td>\n",
       "      <td>0</td>\n",
       "      <td>0</td>\n",
       "      <td>0</td>\n",
       "      <td>0</td>\n",
       "      <td>0</td>\n",
       "      <td>0</td>\n",
       "      <td>0</td>\n",
       "      <td>0</td>\n",
       "      <td>0</td>\n",
       "      <td>0</td>\n",
       "      <td>0</td>\n",
       "      <td>0</td>\n",
       "      <td>0</td>\n",
       "      <td>0</td>\n",
       "      <td>0</td>\n",
       "      <td>0</td>\n",
       "      <td>0</td>\n",
       "      <td>0</td>\n",
       "      <td>1</td>\n",
       "      <td>0</td>\n",
       "      <td>0</td>\n",
       "      <td>0</td>\n",
       "      <td>0</td>\n",
       "      <td>0</td>\n",
       "      <td>0</td>\n",
       "      <td>0</td>\n",
       "      <td>0</td>\n",
       "      <td>0</td>\n",
       "      <td>0</td>\n",
       "      <td>0</td>\n",
       "      <td>1</td>\n",
       "      <td>0</td>\n",
       "      <td>0</td>\n",
       "      <td>0</td>\n",
       "      <td>0</td>\n",
       "      <td>0</td>\n",
       "      <td>0</td>\n",
       "      <td>0</td>\n",
       "      <td>0</td>\n",
       "      <td>0</td>\n",
       "      <td>0</td>\n",
       "      <td>0</td>\n",
       "      <td>0</td>\n",
       "      <td>0</td>\n",
       "      <td>0</td>\n",
       "      <td>0</td>\n",
       "      <td>0</td>\n",
       "      <td>0</td>\n",
       "      <td>0</td>\n",
       "      <td>0</td>\n",
       "      <td>1</td>\n",
       "      <td>0</td>\n",
       "      <td>0</td>\n",
       "      <td>0</td>\n",
       "      <td>0</td>\n",
       "      <td>0</td>\n",
       "      <td>0</td>\n",
       "      <td>0</td>\n",
       "      <td>0</td>\n",
       "      <td>0</td>\n",
       "      <td>0</td>\n",
       "      <td>0</td>\n",
       "      <td>0</td>\n",
       "      <td>0</td>\n",
       "      <td>0</td>\n",
       "      <td>0</td>\n",
       "      <td>0</td>\n",
       "      <td>0</td>\n",
       "      <td>0</td>\n",
       "      <td>0</td>\n",
       "      <td>0</td>\n",
       "      <td>0</td>\n",
       "      <td>0</td>\n",
       "      <td>0</td>\n",
       "      <td>0</td>\n",
       "      <td>0</td>\n",
       "      <td>0</td>\n",
       "      <td>0</td>\n",
       "      <td>0</td>\n",
       "      <td>0</td>\n",
       "      <td>0</td>\n",
       "      <td>0</td>\n",
       "      <td>0</td>\n",
       "      <td>0</td>\n",
       "      <td>0</td>\n",
       "      <td>0</td>\n",
       "      <td>0</td>\n",
       "      <td>0</td>\n",
       "      <td>0</td>\n",
       "      <td>0</td>\n",
       "      <td>0</td>\n",
       "      <td>0</td>\n",
       "      <td>0</td>\n",
       "      <td>0</td>\n",
       "      <td>0</td>\n",
       "      <td>0</td>\n",
       "      <td>0</td>\n",
       "      <td>0</td>\n",
       "      <td>0</td>\n",
       "      <td>0</td>\n",
       "      <td>0</td>\n",
       "      <td>0</td>\n",
       "      <td>0</td>\n",
       "      <td>0</td>\n",
       "      <td>0</td>\n",
       "      <td>0</td>\n",
       "      <td>0</td>\n",
       "      <td>0</td>\n",
       "      <td>0</td>\n",
       "      <td>0</td>\n",
       "      <td>0</td>\n",
       "      <td>0</td>\n",
       "      <td>0</td>\n",
       "      <td>0</td>\n",
       "      <td>0</td>\n",
       "      <td>0</td>\n",
       "      <td>0</td>\n",
       "      <td>0</td>\n",
       "      <td>0</td>\n",
       "      <td>0</td>\n",
       "      <td>0</td>\n",
       "      <td>0</td>\n",
       "      <td>0</td>\n",
       "      <td>0</td>\n",
       "      <td>0</td>\n",
       "      <td>0</td>\n",
       "      <td>0</td>\n",
       "      <td>0</td>\n",
       "      <td>0</td>\n",
       "      <td>0</td>\n",
       "      <td>0</td>\n",
       "      <td>0</td>\n",
       "      <td>0</td>\n",
       "      <td>0</td>\n",
       "      <td>0</td>\n",
       "      <td>0</td>\n",
       "      <td>0</td>\n",
       "      <td>0</td>\n",
       "    </tr>\n",
       "    <tr>\n",
       "      <th>3</th>\n",
       "      <td>94362</td>\n",
       "      <td>584199</td>\n",
       "      <td>2016</td>\n",
       "      <td>1</td>\n",
       "      <td>0</td>\n",
       "      <td>0</td>\n",
       "      <td>1</td>\n",
       "      <td>0</td>\n",
       "      <td>0</td>\n",
       "      <td>0</td>\n",
       "      <td>0</td>\n",
       "      <td>0</td>\n",
       "      <td>0</td>\n",
       "      <td>0</td>\n",
       "      <td>0</td>\n",
       "      <td>0</td>\n",
       "      <td>0</td>\n",
       "      <td>0</td>\n",
       "      <td>0</td>\n",
       "      <td>0</td>\n",
       "      <td>0</td>\n",
       "      <td>0</td>\n",
       "      <td>0</td>\n",
       "      <td>0</td>\n",
       "      <td>0</td>\n",
       "      <td>0</td>\n",
       "      <td>0</td>\n",
       "      <td>0</td>\n",
       "      <td>0</td>\n",
       "      <td>0</td>\n",
       "      <td>0</td>\n",
       "      <td>0</td>\n",
       "      <td>0</td>\n",
       "      <td>0</td>\n",
       "      <td>0</td>\n",
       "      <td>0</td>\n",
       "      <td>0</td>\n",
       "      <td>1</td>\n",
       "      <td>0</td>\n",
       "      <td>0</td>\n",
       "      <td>0</td>\n",
       "      <td>0</td>\n",
       "      <td>0</td>\n",
       "      <td>0</td>\n",
       "      <td>0</td>\n",
       "      <td>0</td>\n",
       "      <td>0</td>\n",
       "      <td>0</td>\n",
       "      <td>0</td>\n",
       "      <td>1</td>\n",
       "      <td>0</td>\n",
       "      <td>0</td>\n",
       "      <td>0</td>\n",
       "      <td>0</td>\n",
       "      <td>0</td>\n",
       "      <td>0</td>\n",
       "      <td>0</td>\n",
       "      <td>0</td>\n",
       "      <td>0</td>\n",
       "      <td>0</td>\n",
       "      <td>0</td>\n",
       "      <td>0</td>\n",
       "      <td>0</td>\n",
       "      <td>0</td>\n",
       "      <td>0</td>\n",
       "      <td>0</td>\n",
       "      <td>0</td>\n",
       "      <td>0</td>\n",
       "      <td>0</td>\n",
       "      <td>0</td>\n",
       "      <td>0</td>\n",
       "      <td>0</td>\n",
       "      <td>0</td>\n",
       "      <td>0</td>\n",
       "      <td>0</td>\n",
       "      <td>0</td>\n",
       "      <td>0</td>\n",
       "      <td>0</td>\n",
       "      <td>0</td>\n",
       "      <td>0</td>\n",
       "      <td>0</td>\n",
       "      <td>0</td>\n",
       "      <td>0</td>\n",
       "      <td>0</td>\n",
       "      <td>0</td>\n",
       "      <td>0</td>\n",
       "      <td>0</td>\n",
       "      <td>0</td>\n",
       "      <td>0</td>\n",
       "      <td>1</td>\n",
       "      <td>0</td>\n",
       "      <td>0</td>\n",
       "      <td>0</td>\n",
       "      <td>0</td>\n",
       "      <td>0</td>\n",
       "      <td>0</td>\n",
       "      <td>0</td>\n",
       "      <td>0</td>\n",
       "      <td>0</td>\n",
       "      <td>0</td>\n",
       "      <td>0</td>\n",
       "      <td>0</td>\n",
       "      <td>0</td>\n",
       "      <td>0</td>\n",
       "      <td>0</td>\n",
       "      <td>0</td>\n",
       "      <td>0</td>\n",
       "      <td>0</td>\n",
       "      <td>0</td>\n",
       "      <td>0</td>\n",
       "      <td>0</td>\n",
       "      <td>0</td>\n",
       "      <td>0</td>\n",
       "      <td>0</td>\n",
       "      <td>0</td>\n",
       "      <td>0</td>\n",
       "      <td>0</td>\n",
       "      <td>0</td>\n",
       "      <td>0</td>\n",
       "      <td>0</td>\n",
       "      <td>0</td>\n",
       "      <td>0</td>\n",
       "      <td>0</td>\n",
       "      <td>0</td>\n",
       "      <td>0</td>\n",
       "      <td>0</td>\n",
       "      <td>0</td>\n",
       "      <td>0</td>\n",
       "      <td>0</td>\n",
       "      <td>0</td>\n",
       "      <td>0</td>\n",
       "      <td>0</td>\n",
       "      <td>0</td>\n",
       "      <td>0</td>\n",
       "      <td>0</td>\n",
       "      <td>0</td>\n",
       "      <td>0</td>\n",
       "      <td>0</td>\n",
       "      <td>0</td>\n",
       "      <td>0</td>\n",
       "      <td>0</td>\n",
       "      <td>0</td>\n",
       "      <td>0</td>\n",
       "      <td>0</td>\n",
       "      <td>0</td>\n",
       "      <td>0</td>\n",
       "      <td>0</td>\n",
       "      <td>0</td>\n",
       "      <td>0</td>\n",
       "      <td>0</td>\n",
       "      <td>0</td>\n",
       "      <td>0</td>\n",
       "      <td>0</td>\n",
       "      <td>0</td>\n",
       "      <td>0</td>\n",
       "      <td>0</td>\n",
       "      <td>0</td>\n",
       "    </tr>\n",
       "    <tr>\n",
       "      <th>4</th>\n",
       "      <td>17227</td>\n",
       "      <td>812299</td>\n",
       "      <td>2017</td>\n",
       "      <td>1</td>\n",
       "      <td>1</td>\n",
       "      <td>0</td>\n",
       "      <td>0</td>\n",
       "      <td>0</td>\n",
       "      <td>0</td>\n",
       "      <td>0</td>\n",
       "      <td>0</td>\n",
       "      <td>0</td>\n",
       "      <td>1</td>\n",
       "      <td>0</td>\n",
       "      <td>0</td>\n",
       "      <td>0</td>\n",
       "      <td>1</td>\n",
       "      <td>0</td>\n",
       "      <td>0</td>\n",
       "      <td>0</td>\n",
       "      <td>0</td>\n",
       "      <td>0</td>\n",
       "      <td>0</td>\n",
       "      <td>0</td>\n",
       "      <td>0</td>\n",
       "      <td>0</td>\n",
       "      <td>0</td>\n",
       "      <td>0</td>\n",
       "      <td>0</td>\n",
       "      <td>0</td>\n",
       "      <td>0</td>\n",
       "      <td>0</td>\n",
       "      <td>0</td>\n",
       "      <td>0</td>\n",
       "      <td>0</td>\n",
       "      <td>0</td>\n",
       "      <td>0</td>\n",
       "      <td>1</td>\n",
       "      <td>0</td>\n",
       "      <td>0</td>\n",
       "      <td>0</td>\n",
       "      <td>0</td>\n",
       "      <td>0</td>\n",
       "      <td>0</td>\n",
       "      <td>1</td>\n",
       "      <td>0</td>\n",
       "      <td>0</td>\n",
       "      <td>0</td>\n",
       "      <td>0</td>\n",
       "      <td>0</td>\n",
       "      <td>0</td>\n",
       "      <td>0</td>\n",
       "      <td>0</td>\n",
       "      <td>0</td>\n",
       "      <td>0</td>\n",
       "      <td>0</td>\n",
       "      <td>0</td>\n",
       "      <td>0</td>\n",
       "      <td>0</td>\n",
       "      <td>0</td>\n",
       "      <td>0</td>\n",
       "      <td>0</td>\n",
       "      <td>0</td>\n",
       "      <td>0</td>\n",
       "      <td>0</td>\n",
       "      <td>0</td>\n",
       "      <td>0</td>\n",
       "      <td>0</td>\n",
       "      <td>0</td>\n",
       "      <td>0</td>\n",
       "      <td>0</td>\n",
       "      <td>0</td>\n",
       "      <td>0</td>\n",
       "      <td>0</td>\n",
       "      <td>0</td>\n",
       "      <td>0</td>\n",
       "      <td>0</td>\n",
       "      <td>0</td>\n",
       "      <td>0</td>\n",
       "      <td>0</td>\n",
       "      <td>0</td>\n",
       "      <td>0</td>\n",
       "      <td>1</td>\n",
       "      <td>0</td>\n",
       "      <td>0</td>\n",
       "      <td>0</td>\n",
       "      <td>0</td>\n",
       "      <td>0</td>\n",
       "      <td>0</td>\n",
       "      <td>0</td>\n",
       "      <td>0</td>\n",
       "      <td>0</td>\n",
       "      <td>0</td>\n",
       "      <td>0</td>\n",
       "      <td>0</td>\n",
       "      <td>0</td>\n",
       "      <td>0</td>\n",
       "      <td>0</td>\n",
       "      <td>0</td>\n",
       "      <td>0</td>\n",
       "      <td>0</td>\n",
       "      <td>0</td>\n",
       "      <td>0</td>\n",
       "      <td>0</td>\n",
       "      <td>0</td>\n",
       "      <td>0</td>\n",
       "      <td>0</td>\n",
       "      <td>0</td>\n",
       "      <td>0</td>\n",
       "      <td>0</td>\n",
       "      <td>0</td>\n",
       "      <td>0</td>\n",
       "      <td>0</td>\n",
       "      <td>0</td>\n",
       "      <td>0</td>\n",
       "      <td>0</td>\n",
       "      <td>0</td>\n",
       "      <td>0</td>\n",
       "      <td>0</td>\n",
       "      <td>0</td>\n",
       "      <td>0</td>\n",
       "      <td>0</td>\n",
       "      <td>0</td>\n",
       "      <td>0</td>\n",
       "      <td>0</td>\n",
       "      <td>0</td>\n",
       "      <td>0</td>\n",
       "      <td>0</td>\n",
       "      <td>0</td>\n",
       "      <td>0</td>\n",
       "      <td>0</td>\n",
       "      <td>0</td>\n",
       "      <td>0</td>\n",
       "      <td>0</td>\n",
       "      <td>0</td>\n",
       "      <td>0</td>\n",
       "      <td>0</td>\n",
       "      <td>0</td>\n",
       "      <td>0</td>\n",
       "      <td>0</td>\n",
       "      <td>0</td>\n",
       "      <td>0</td>\n",
       "      <td>0</td>\n",
       "      <td>0</td>\n",
       "      <td>0</td>\n",
       "      <td>0</td>\n",
       "      <td>0</td>\n",
       "      <td>0</td>\n",
       "      <td>0</td>\n",
       "      <td>0</td>\n",
       "      <td>0</td>\n",
       "      <td>0</td>\n",
       "      <td>0</td>\n",
       "      <td>0</td>\n",
       "      <td>0</td>\n",
       "      <td>0</td>\n",
       "      <td>0</td>\n",
       "    </tr>\n",
       "  </tbody>\n",
       "</table>\n",
       "</div>"
      ],
      "text/plain": [
       "   Mileage   Price  Year  Manual  1.5-2.0 Liter  2.0+ Liter  Basic Diesel  \\\n",
       "0    19158  924099  2020       1              0           0             0   \n",
       "1    44585  546099  2014       1              0           0             0   \n",
       "2     9483  615199  2018       1              0           0             0   \n",
       "3    94362  584199  2016       1              0           0             1   \n",
       "4    17227  812299  2017       1              1           0             0   \n",
       "\n",
       "   Basic Petrol  Middle Petrol  Other  Top Diesel  Top Petrol  2nd Owner  \\\n",
       "0             0              0      1           0           0          0   \n",
       "1             0              0      0           0           0          1   \n",
       "2             0              0      0           0           0          1   \n",
       "3             0              0      0           0           0          0   \n",
       "4             0              0      0           0           0          1   \n",
       "\n",
       "   3rd Owner  4th Owner  5th Owner  Petrol  Petrol + CNG  Petrol + LPG  \\\n",
       "0          0          0          0       1             0             0   \n",
       "1          0          0          0       0             0             0   \n",
       "2          0          0          0       1             0             0   \n",
       "3          0          0          0       0             0             0   \n",
       "4          0          0          0       1             0             0   \n",
       "\n",
       "   Bengaluru  Bhopal  Chandigarh  Chennai  Delhi  Hyderabad  Jaipur  Kochi  \\\n",
       "0          0       0           0        0      0          0       0      0   \n",
       "1          0       0           0        0      0          0       0      0   \n",
       "2          0       0           0        0      0          0       0      0   \n",
       "3          0       0           0        0      0          0       0      0   \n",
       "4          0       0           0        0      0          0       0      0   \n",
       "\n",
       "   Kolkata  Lucknow  Ludhiana  Meerut  Mumbai  Mysore  Nasik  Panipat  Pune  \\\n",
       "0        0        0         0       0       0       0      0        0     0   \n",
       "1        0        0         0       0       0       0      0        0     0   \n",
       "2        0        0         0       0       0       0      0        0     0   \n",
       "3        0        0         0       0       0       0      0        0     0   \n",
       "4        0        0         0       0       0       0      0        0     0   \n",
       "\n",
       "   Rajkot  Rohtak  Surat  Vadodara  BMW  Datsun  Ford  Honda  Hyundai  Jeep  \\\n",
       "0       0       1      0         0    0       0     0      0        1     0   \n",
       "1       0       1      0         0    0       0     0      0        1     0   \n",
       "2       0       1      0         0    0       0     0      0        0     0   \n",
       "3       0       1      0         0    0       0     0      0        0     0   \n",
       "4       0       1      0         0    0       0     0      0        1     0   \n",
       "\n",
       "   KIA  MG  Mahindra  Maruti  Mercedes  Nissan  Renault  Skoda  Ssangyong  \\\n",
       "0    0   0         0       0         0       0        0      0          0   \n",
       "1    0   0         0       0         0       0        0      0          0   \n",
       "2    0   0         0       1         0       0        0      0          0   \n",
       "3    0   0         0       1         0       0        0      0          0   \n",
       "4    0   0         0       0         0       0        0      0          0   \n",
       "\n",
       "   Tata  Toyota  Volkswagen  5  A  A3  A4  ALTROZ  AURA  Accord  Alto  Amaze  \\\n",
       "0     0       0           0  0  0   0   0       0     0       0     0      0   \n",
       "1     0       0           0  0  0   0   0       0     0       0     0      0   \n",
       "2     0       0           0  0  0   0   0       0     0       0     0      0   \n",
       "3     0       0           0  0  0   0   0       0     0       0     0      0   \n",
       "4     0       0           0  0  0   0   0       0     0       0     0      0   \n",
       "\n",
       "   Ameo  BR-V  Baleno  Benz  Bolero  Brio  CRV  Camry  Captur  Celerio  Ciaz  \\\n",
       "0     0     0       0     0       0     0    0      0       0        0     0   \n",
       "1     0     0       0     0       0     0    0      0       0        0     0   \n",
       "2     0     0       1     0       0     0    0      0       0        0     0   \n",
       "3     0     0       0     0       0     0    0      0       0        0     0   \n",
       "4     0     0       0     0       0     0    0      0       0        0     0   \n",
       "\n",
       "   City  Civic  Compass  Corolla  Creta  Duster  Dzire  Ecosport  Eeco  Elite  \\\n",
       "0     0      0        0        0      0       0      0         0     0      0   \n",
       "1     0      0        0        0      0       0      0         0     0      0   \n",
       "2     0      0        0        0      0       0      0         0     0      0   \n",
       "3     0      0        0        0      0       0      0         0     0      0   \n",
       "4     0      0        0        0      1       0      0         0     0      0   \n",
       "\n",
       "   Eon  Ertiga  Etios  FREESTYLE  Fiesta  Figo  Fortuner  GRAND  Glanza  Go  \\\n",
       "0    0       0      0          0       0     0         0      0       0   0   \n",
       "1    0       0      0          0       0     0         0      0       0   0   \n",
       "2    0       0      0          0       0     0         0      0       0   0   \n",
       "3    0       1      0          0       0     0         0      0       0   0   \n",
       "4    0       0      0          0       0     0         0      0       0   0   \n",
       "\n",
       "   Grand  HECTOR  Harrier  Hexa  IGNIS  Innova  Jazz  Jetta  KAROQ  KUV  \\\n",
       "0      0       0        0     0      0       0     0      0      0    0   \n",
       "1      0       0        0     0      0       0     0      0      0    0   \n",
       "2      0       0        0     0      0       0     0      0      0    0   \n",
       "3      0       0        0     0      0       0     0      0      0    0   \n",
       "4      0       0        0     0      0       0     0      0      0    0   \n",
       "\n",
       "   Kuv100  Kwid  Lodgy  MARAZZO  Micra  NEW  NEXON  Nano  New  OMNI  Octavia  \\\n",
       "0       0     0      0        0      0    0      0     0    0     0        0   \n",
       "1       0     0      0        0      0    0      0     0    0     0        0   \n",
       "2       0     0      0        0      0    0      0     0    0     0        0   \n",
       "3       0     0      0        0      0    0      0     0    0     0        0   \n",
       "4       0     0      0        0      0    0      0     0    0     0        0   \n",
       "\n",
       "   Polo  Prius  Q3  Rapid  Redi  Rexton  Ritz  S  SELTOS  SONET  SX4  Santro  \\\n",
       "0     0      0   0      0     0       0     0  0       0      0    0       0   \n",
       "1     0      0   0      0     0       0     0  0       0      0    0       0   \n",
       "2     0      0   0      0     0       0     0  0       0      0    0       0   \n",
       "3     0      0   0      0     0       0     0  0       0      0    0       0   \n",
       "4     0      0   0      0     0       0     0  0       0      0    0       0   \n",
       "\n",
       "   Scorpio  Sunny  Superb  Swift  TIGOR  TRIBER  TUV300  Thar  Tiago  Tucson  \\\n",
       "0        0      0       0      0      0       0       0     0      0       0   \n",
       "1        0      0       0      0      0       0       0     0      0       0   \n",
       "2        0      0       0      0      0       0       0     0      0       0   \n",
       "3        0      0       0      0      0       0       0     0      0       0   \n",
       "4        0      0       0      0      0       0       0     0      0       0   \n",
       "\n",
       "   VENUE  Vento  Verna  Vitara  WR-V  Wagon  X1  XL6  XUV  XUV500  Xcent  \\\n",
       "0      0      0      1       0     0      0   0    0    0       0      0   \n",
       "1      0      0      1       0     0      0   0    0    0       0      0   \n",
       "2      0      0      0       0     0      0   0    0    0       0      0   \n",
       "3      0      0      0       0     0      0   0    0    0       0      0   \n",
       "4      0      0      0       0     0      0   0    0    0       0      0   \n",
       "\n",
       "   YARIS  Zen  Zest  i10  i20  \n",
       "0      0    0     0    0    0  \n",
       "1      0    0     0    0    0  \n",
       "2      0    0     0    0    0  \n",
       "3      0    0     0    0    0  \n",
       "4      0    0     0    0    0  "
      ]
     },
     "execution_count": 59,
     "metadata": {},
     "output_type": "execute_result"
    }
   ],
   "source": [
    "df.head()"
   ]
  },
  {
   "cell_type": "code",
   "execution_count": 60,
   "metadata": {},
   "outputs": [
    {
     "name": "stdout",
     "output_type": "stream",
     "text": [
      "X Train Shape  (4271, 156)\n",
      "Y Train Shape  (4271,)\n",
      "X Test Shape  (1068, 156)\n",
      "Y Test Shape  (1068,)\n"
     ]
    }
   ],
   "source": [
    "X=df.drop(['Price'], axis = 1, inplace = False) # Training variables\n",
    "y=df['Price'] # Testing variables\n",
    "\n",
    "X_train, X_test, y_train, y_test = train_test_split(X, y, test_size=0.20, random_state=1)\n",
    "\n",
    "print(\"X Train Shape \",X_train.shape)\n",
    "print(\"Y Train Shape \",y_train.shape)\n",
    "\n",
    "print(\"X Test Shape \",X_test.shape)\n",
    "print(\"Y Test Shape \",y_test.shape)"
   ]
  },
  {
   "cell_type": "markdown",
   "metadata": {},
   "source": [
    "### Decision tree regressor"
   ]
  },
  {
   "cell_type": "code",
   "execution_count": 61,
   "metadata": {},
   "outputs": [
    {
     "data": {
      "text/plain": [
       "0.9244399834590671"
      ]
     },
     "execution_count": 61,
     "metadata": {},
     "output_type": "execute_result"
    }
   ],
   "source": [
    "dtr = DecisionTreeRegressor(random_state=5)\n",
    "dtr.fit(X_train, y_train)\n",
    "y_pred_dt = dtr.predict(X_test)\n",
    "dtr.score(X_test, y_test)"
   ]
  },
  {
   "cell_type": "code",
   "execution_count": 62,
   "metadata": {},
   "outputs": [
    {
     "name": "stdout",
     "output_type": "stream",
     "text": [
      "0.9127767628601462\n"
     ]
    }
   ],
   "source": [
    "scr = cross_val_score(dtr, X,y, cv=4)\n",
    "print(scr.mean())"
   ]
  },
  {
   "cell_type": "code",
   "execution_count": 63,
   "metadata": {},
   "outputs": [
    {
     "name": "stdout",
     "output_type": "stream",
     "text": [
      "Mean absolute error = 24799.06\n",
      "Mean squared error = 5127640478.85\n",
      "Median absolute error = 0.0\n",
      "Explain variance score = 0.92\n",
      "R2 score = 0.92\n"
     ]
    }
   ],
   "source": [
    "print(\"Mean absolute error =\", round(sm.mean_absolute_error(y_test, y_pred_dt), 2)) \n",
    "print(\"Mean squared error =\", round(sm.mean_squared_error(y_test, y_pred_dt), 2)) \n",
    "print(\"Median absolute error =\", round(sm.median_absolute_error(y_test, y_pred_dt), 2)) \n",
    "print(\"Explain variance score =\", round(sm.explained_variance_score(y_test, y_pred_dt), 2)) \n",
    "print(\"R2 score =\", round(sm.r2_score(y_test, y_pred_dt), 2))"
   ]
  },
  {
   "cell_type": "markdown",
   "metadata": {},
   "source": [
    "### Random forest regression"
   ]
  },
  {
   "cell_type": "code",
   "execution_count": 64,
   "metadata": {},
   "outputs": [
    {
     "data": {
      "text/plain": [
       "0.9600850809439998"
      ]
     },
     "execution_count": 64,
     "metadata": {},
     "output_type": "execute_result"
    }
   ],
   "source": [
    "rfr = RandomForestRegressor(random_state=1)\n",
    "rfr.fit(X_train, y_train)\n",
    "y_pred_rfr = rfr.predict(X_test)\n",
    "rfr.score(X_test, y_test)"
   ]
  },
  {
   "cell_type": "code",
   "execution_count": 65,
   "metadata": {},
   "outputs": [
    {
     "name": "stdout",
     "output_type": "stream",
     "text": [
      "0.9347715160471913\n"
     ]
    }
   ],
   "source": [
    "scr = cross_val_score(rfr, X,y, cv=4)\n",
    "print(scr.mean())"
   ]
  },
  {
   "cell_type": "code",
   "execution_count": 66,
   "metadata": {},
   "outputs": [
    {
     "name": "stdout",
     "output_type": "stream",
     "text": [
      "Mean absolute error = 28358.72\n",
      "Mean squared error = 2708699177.57\n",
      "Median absolute error = 13088.0\n",
      "Explain variance score = 0.96\n",
      "R2 score = 0.96\n"
     ]
    }
   ],
   "source": [
    "print(\"Mean absolute error =\", round(sm.mean_absolute_error(y_test, y_pred_rfr), 2)) \n",
    "print(\"Mean squared error =\", round(sm.mean_squared_error(y_test, y_pred_rfr), 2)) \n",
    "print(\"Median absolute error =\", round(sm.median_absolute_error(y_test, y_pred_rfr), 2)) \n",
    "print(\"Explain variance score =\", round(sm.explained_variance_score(y_test, y_pred_rfr), 2)) \n",
    "print(\"R2 score =\", round(sm.r2_score(y_test, y_pred_rfr), 2))"
   ]
  },
  {
   "cell_type": "code",
   "execution_count": 67,
   "metadata": {},
   "outputs": [
    {
     "data": {
      "image/png": "[encoded data removed]",
      "text/plain": [
       "<Figure size 576x576 with 1 Axes>"
      ]
     },
     "metadata": {
      "needs_background": "light"
     },
     "output_type": "display_data"
    }
   ],
   "source": [
    "plt.figure(figsize=(8,8))\n",
    "plt.scatter(y_test,y_pred_rfr)\n",
    "plt.xlabel(\"Actual value of car\")\n",
    "plt.ylabel(\"Predicted value of car\")\n",
    "plt.ticklabel_format(style='plain', axis='y')\n",
    "plt.ticklabel_format(style='plain', axis='x')"
   ]
  },
  {
   "cell_type": "code",
   "execution_count": 68,
   "metadata": {},
   "outputs": [
    {
     "data": {
      "text/plain": [
       "<AxesSubplot:xlabel='Price', ylabel='Density'>"
      ]
     },
     "execution_count": 68,
     "metadata": {},
     "output_type": "execute_result"
    },
    {
     "data": {
      "image/png": "[encoded data removed]",
      "text/plain": [
       "<Figure size 576x576 with 1 Axes>"
      ]
     },
     "metadata": {
      "needs_background": "light"
     },
     "output_type": "display_data"
    }
   ],
   "source": [
    "plt.figure(figsize=(8,8))\n",
    "sns.distplot(y_test-y_pred_rfr)"
   ]
  },
  {
   "cell_type": "markdown",
   "metadata": {},
   "source": [
    "## Taking log of Price, Mileage and min-max of year data "
   ]
  },
  {
   "cell_type": "code",
   "execution_count": 69,
   "metadata": {},
   "outputs": [],
   "source": [
    "df['Price'] = np.log(df['Price'])\n",
    "df['Mileage'] = np.log(df['Mileage'])\n",
    "df['Year']=(df['Year']-df['Year'].min())/(df['Year'].max()-df['Year'].min())"
   ]
  },
  {
   "cell_type": "code",
   "execution_count": 70,
   "metadata": {},
   "outputs": [
    {
     "name": "stdout",
     "output_type": "stream",
     "text": [
      "X Train Shape  (4271, 156)\n",
      "Y Train Shape  (4271,)\n",
      "X Test Shape  (1068, 156)\n",
      "Y Test Shape  (1068,)\n"
     ]
    }
   ],
   "source": [
    "X=df.drop(['Price'], axis = 1, inplace = False)\n",
    "y=df['Price']\n",
    "\n",
    "X_train, X_test, y_train, y_test = train_test_split(X, y, test_size=0.20, random_state=1)\n",
    "\n",
    "print(\"X Train Shape \",X_train.shape)\n",
    "print(\"Y Train Shape \",y_train.shape)\n",
    "\n",
    "print(\"X Test Shape \",X_test.shape)\n",
    "print(\"Y Test Shape \",y_test.shape)"
   ]
  },
  {
   "cell_type": "markdown",
   "metadata": {},
   "source": [
    "### Random forest regression "
   ]
  },
  {
   "cell_type": "code",
   "execution_count": 71,
   "metadata": {},
   "outputs": [
    {
     "data": {
      "text/plain": [
       "0.9643752320751121"
      ]
     },
     "execution_count": 71,
     "metadata": {},
     "output_type": "execute_result"
    }
   ],
   "source": [
    "rfr = RandomForestRegressor(random_state=1)\n",
    "rfr.fit(X_train, y_train)\n",
    "y_pred_rfr = rfr.predict(X_test)\n",
    "rfr.score(X_test, y_test)"
   ]
  },
  {
   "cell_type": "code",
   "execution_count": 72,
   "metadata": {},
   "outputs": [
    {
     "name": "stdout",
     "output_type": "stream",
     "text": [
      "0.9423033540283878\n"
     ]
    }
   ],
   "source": [
    "scr = cross_val_score(rfr, X,y, cv=4)\n",
    "print(scr.mean())"
   ]
  },
  {
   "cell_type": "markdown",
   "metadata": {},
   "source": [
    "### Decision tree regressor "
   ]
  },
  {
   "cell_type": "code",
   "execution_count": 73,
   "metadata": {},
   "outputs": [
    {
     "data": {
      "text/plain": [
       "0.9417958855360118"
      ]
     },
     "execution_count": 73,
     "metadata": {},
     "output_type": "execute_result"
    }
   ],
   "source": [
    "from sklearn.tree import DecisionTreeRegressor\n",
    "dtr = DecisionTreeRegressor(random_state=5)\n",
    "dtr.fit(X_train, y_train)\n",
    "y_pred_dt = dtr.predict(X_test)\n",
    "dtr.score(X_test, y_test)"
   ]
  },
  {
   "cell_type": "code",
   "execution_count": 74,
   "metadata": {},
   "outputs": [
    {
     "name": "stdout",
     "output_type": "stream",
     "text": [
      "0.9194896106985366\n"
     ]
    }
   ],
   "source": [
    "scr = cross_val_score(dtr, X,y, cv=4)\n",
    "print(scr.mean())"
   ]
  },
  {
   "cell_type": "code",
   "execution_count": 75,
   "metadata": {},
   "outputs": [
    {
     "data": {
      "image/png": "[encoded data removed]",
      "text/plain": [
       "<Figure size 576x576 with 1 Axes>"
      ]
     },
     "metadata": {
      "needs_background": "light"
     },
     "output_type": "display_data"
    }
   ],
   "source": [
    "plt.figure(figsize=(8,8)) # Scatter plot of predicted vs actual values\n",
    "plt.scatter(e**(y_test),e**(y_pred_rfr))\n",
    "plt.xlabel(\"Actual value of car\")\n",
    "plt.ylabel(\"Predicted value of car\")\n",
    "plt.ticklabel_format(style='plain', axis='y')\n",
    "plt.ticklabel_format(style='plain', axis='x')"
   ]
  },
  {
   "cell_type": "code",
   "execution_count": 76,
   "metadata": {},
   "outputs": [
    {
     "data": {
      "text/plain": [
       "<AxesSubplot:xlabel='Price', ylabel='Density'>"
      ]
     },
     "execution_count": 76,
     "metadata": {},
     "output_type": "execute_result"
    },
    {
     "data": {
      "image/png": "[encoded data removed]",
      "text/plain": [
       "<Figure size 576x576 with 1 Axes>"
      ]
     },
     "metadata": {
      "needs_background": "light"
     },
     "output_type": "display_data"
    }
   ],
   "source": [
    "plt.figure(figsize=(8,8))\n",
    "sns.distplot(e**y_test-e**y_pred_rfr) # As I took log before, re-converting the values to real prices"
   ]
  },
  {
   "cell_type": "markdown",
   "metadata": {},
   "source": [
    "### Support vector regression"
   ]
  },
  {
   "cell_type": "code",
   "execution_count": 77,
   "metadata": {},
   "outputs": [
    {
     "data": {
      "text/plain": [
       "0.8721726171837489"
      ]
     },
     "execution_count": 77,
     "metadata": {},
     "output_type": "execute_result"
    }
   ],
   "source": [
    "svr = SVR().fit(X_train, y_train)\n",
    "y_pred_svr = svr.predict(X_test)\n",
    "svr.score(X_test, y_test)"
   ]
  },
  {
   "cell_type": "code",
   "execution_count": 78,
   "metadata": {},
   "outputs": [
    {
     "name": "stdout",
     "output_type": "stream",
     "text": [
      "0.8363282884121721\n"
     ]
    }
   ],
   "source": [
    "scr = cross_val_score(svr, X,y, cv=5)\n",
    "print(scr.mean())"
   ]
  },
  {
   "cell_type": "markdown",
   "metadata": {},
   "source": [
    "### Hyper paramter tuning"
   ]
  },
  {
   "cell_type": "markdown",
   "metadata": {},
   "source": [
    "I will be performing hyper parameter tuning on the random forest regressor model, as it gave the best performance."
   ]
  },
  {
   "cell_type": "code",
   "execution_count": 79,
   "metadata": {},
   "outputs": [],
   "source": [
    "from sklearn.model_selection import GridSearchCV"
   ]
  },
  {
   "cell_type": "code",
   "execution_count": 80,
   "metadata": {},
   "outputs": [],
   "source": [
    "parameters = { 'n_estimators' : [100,150],\n",
    "               'min_samples_leaf' : [1,2], \n",
    "              'min_samples_split': [2,3],\n",
    "              'criterion': ['mse','mae']\n",
    "}"
   ]
  },
  {
   "cell_type": "code",
   "execution_count": 81,
   "metadata": {},
   "outputs": [],
   "source": [
    "GCV = GridSearchCV(RandomForestRegressor(),parameters,cv=5)"
   ]
  },
  {
   "cell_type": "code",
   "execution_count": 82,
   "metadata": {},
   "outputs": [
    {
     "name": "stdout",
     "output_type": "stream",
     "text": [
      "GridSearchCV(cv=5, estimator=RandomForestRegressor(),\n",
      "             param_grid={'criterion': ['mse', 'mae'],\n",
      "                         'min_samples_leaf': [1, 2],\n",
      "                         'min_samples_split': [2, 3],\n",
      "                         'n_estimators': [100, 150]})\n"
     ]
    }
   ],
   "source": [
    "GCV.fit(X_train,y_train)"
   ]
  },
  {
   "cell_type": "code",
   "execution_count": 83,
   "metadata": {},
   "outputs": [
    {
     "name": "stdout",
     "output_type": "stream",
     "text": [
      "{'criterion': 'mse',\n",
      " 'min_samples_leaf': 1,\n",
      " 'min_samples_split': 2,\n",
      " 'n_estimators': 150}\n"
     ]
    }
   ],
   "source": [
    "GCV.best_params_"
   ]
  },
  {
   "cell_type": "markdown",
   "metadata": {},
   "source": [
    "Training model according to the best parameters"
   ]
  },
  {
   "cell_type": "code",
   "execution_count": 84,
   "metadata": {},
   "outputs": [
    {
     "data": {
      "text/plain": [
       "0.9645423652427049"
      ]
     },
     "execution_count": 84,
     "metadata": {},
     "output_type": "execute_result"
    }
   ],
   "source": [
    "mod = RandomForestRegressor(min_samples_leaf= 1, min_samples_split =2, n_estimators = 150, criterion='mse')\n",
    "mod.fit(X_train,y_train)\n",
    "pred = mod.predict(X_test)\n",
    "mod.score(X_test,y_test)"
   ]
  },
  {
   "cell_type": "code",
   "execution_count": 85,
   "metadata": {},
   "outputs": [
    {
     "name": "stdout",
     "output_type": "stream",
     "text": [
      "0.942484049598727\n"
     ]
    }
   ],
   "source": [
    "scr = cross_val_score(mod, X,y, cv=4)\n",
    "print(scr.mean())"
   ]
  },
  {
   "cell_type": "markdown",
   "metadata": {},
   "source": [
    "As we can observe hyper parameter tuning improved the r^2 score to 0.943 which is good."
   ]
  },
  {
   "cell_type": "code",
   "execution_count": 86,
   "metadata": {},
   "outputs": [
    {
     "data": {
      "image/png": "[encoded data removed]",
      "text/plain": [
       "<Figure size 576x576 with 1 Axes>"
      ]
     },
     "metadata": {
      "needs_background": "light"
     },
     "output_type": "display_data"
    }
   ],
   "source": [
    "plt.figure(figsize=(8,8))\n",
    "plt.scatter(e**y_test,e**pred)\n",
    "plt.xlabel(\"Actual value of car\")\n",
    "plt.ylabel(\"Predicted value of car\")\n",
    "plt.ticklabel_format(style='plain', axis='y')\n",
    "plt.ticklabel_format(style='plain', axis='x')"
   ]
  },
  {
   "cell_type": "markdown",
   "metadata": {},
   "source": [
    "Scatter plot of predicted vs actual values, we can se ethat there are some outliers, but most of the values lie in a stright line at 45deg which is optimal. \n",
    "\n",
    "We also got a much tighter fir near 0 deviation which means our model is performing well."
   ]
  },
  {
   "cell_type": "code",
   "execution_count": 87,
   "metadata": {},
   "outputs": [
    {
     "data": {
      "text/plain": [
       "<AxesSubplot:xlabel='Price', ylabel='Density'>"
      ]
     },
     "execution_count": 87,
     "metadata": {},
     "output_type": "execute_result"
    },
    {
     "data": {
      "image/png": "[encoded data removed]",
      "text/plain": [
       "<Figure size 576x576 with 1 Axes>"
      ]
     },
     "metadata": {
      "needs_background": "light"
     },
     "output_type": "display_data"
    }
   ],
   "source": [
    "plt.figure(figsize=(8,8))\n",
    "sns.distplot(e**y_test-e**pred) # As I took log before, re-converting the values to real prices"
   ]
  },
  {
   "cell_type": "markdown",
   "metadata": {},
   "source": [
    "#### Checking the Concordance index"
   ]
  },
  {
   "cell_type": "code",
   "execution_count": 88,
   "metadata": {},
   "outputs": [
    {
     "name": "stdout",
     "output_type": "stream",
     "text": [
      "Concordance index: 0.9498460922533394\n"
     ]
    }
   ],
   "source": [
    "from lifelines.utils import concordance_index\n",
    "print(f'Concordance index: {concordance_index(y_test, pred)}')"
   ]
  },
  {
   "cell_type": "markdown",
   "metadata": {},
   "source": [
    "We got Concordance index: 0.9498460922533394, which is a very good value. and it mease that the model is performing great."
   ]
  },
  {
   "cell_type": "markdown",
   "metadata": {},
   "source": [
    "### Saving the model"
   ]
  },
  {
   "cell_type": "code",
   "execution_count": 89,
   "metadata": {},
   "outputs": [
    {
     "name": "stdout",
     "output_type": "stream",
     "text": [
      "['CarPricePred.pkl']\n"
     ]
    }
   ],
   "source": [
    "import joblib\n",
    "joblib.dump(mod,\"CarPricePred.pkl\")"
   ]
  }
 ],
 "metadata": {
  "kernelspec": {
   "display_name": "Python 3",
   "language": "python",
   "name": "python3"
  },
  "language_info": {
   "codemirror_mode": {
    "name": "ipython",
    "version": 3
   },
   "file_extension": ".py",
   "mimetype": "text/x-python",
   "name": "python",
   "nbconvert_exporter": "python",
   "pygments_lexer": "ipython3",
   "version": "3.8.5"
  }
 },
 "nbformat": 4,
 "nbformat_minor": 4
}
